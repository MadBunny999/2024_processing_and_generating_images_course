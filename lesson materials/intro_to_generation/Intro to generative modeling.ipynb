{
 "cells": [
  {
   "cell_type": "code",
   "execution_count": 1,
   "id": "02ea2cc7",
   "metadata": {},
   "outputs": [],
   "source": [
    "import numpy as np\n",
    "from IPython.display import Image\n",
    "\n",
    "import matplotlib.pyplot as plt\n",
    "import numpy as np\n",
    "import scipy.stats as stats\n",
    "\n",
    "# Устанавливаем глобальный seed для всех случайностей\n",
    "np.random.seed(42)"
   ]
  },
  {
   "cell_type": "markdown",
   "id": "40095706",
   "metadata": {},
   "source": [
    "# Введение в генеративное моделирование"
   ]
  },
  {
   "cell_type": "markdown",
   "id": "99c8ca20",
   "metadata": {},
   "source": [
    "### Структура работы генеративной модели\n",
    "___Генеративная модель___ оценивает __p(x)__ — вероятность получения наблюдения x."
   ]
  },
  {
   "cell_type": "markdown",
   "id": "8fa970a3",
   "metadata": {},
   "source": [
    "![title](images/generationpipe.png)"
   ]
  },
  {
   "cell_type": "markdown",
   "id": "d63b63ee",
   "metadata": {},
   "source": [
    "### Прогресс в генерации лиц"
   ]
  },
  {
   "cell_type": "markdown",
   "id": "af387ce4",
   "metadata": {},
   "source": [
    "![title](images/progress2.png)\n",
    "\n",
    "В нижнем ряду показаны примеры генерации лиц из работы:\n",
    "\n",
    "Karras, T., Laine, S., & Aila, T. (2019). A style-based generator architecture for generative adversarial networks. In Proceedings of the IEEE/CVF conference on computer vision and pattern recognition (pp. 4401-4410).\n",
    "* proceedings работы ([ссылка](https://ieeexplore.ieee.org/document/8953766/authors#authors))\n",
    "* онлайн сервис, с большим количеством примеров ([ссылка](https://generated.photos/faces))"
   ]
  },
  {
   "cell_type": "markdown",
   "id": "ff66173a",
   "metadata": {},
   "source": [
    "## Основы генеративного моделирования"
   ]
  },
  {
   "cell_type": "markdown",
   "id": "0905dbb4",
   "metadata": {},
   "source": [
    "Набор точек __X__ сгенерирован правилом _Pdata_.\n",
    "\n",
    "Возьмите на себя роль генеративной модели). Выберете точку _(x1, x2)_ чтобы она принадлежала распределению _Pdata_.\n",
    "\n"
   ]
  },
  {
   "cell_type": "markdown",
   "id": "0711516a",
   "metadata": {},
   "source": [
    "![title](images/pdata.png)"
   ]
  },
  {
   "cell_type": "markdown",
   "id": "dc9e04cf",
   "metadata": {},
   "source": [
    "* Точка А нарушает правило 1 базовых принципов генеративного моделирования — ясно видно, что она не принадлежит распределению pdata, поскольку находится посреди моря.\n",
    "\n",
    "* Точка B настолько близко расположена от точки из исходного набора данных, что мы не впечатлены способностью модели создать такую точку. Если все образцы, сгенерированные моделью, будут расположены так же близко к точкам из исходного набора, то это можно считать нарушением правила 2 базовых принципов генеративного моделирования.\n",
    "\n",
    "* Точку C можно рассматривать как успех, потому что она вполне могла быть получена из распределения pdata и существенно отличается от всех точек в исходном наборе."
   ]
  },
  {
   "cell_type": "markdown",
   "id": "12c57594",
   "metadata": {},
   "source": [
    "![title](images/gtdata.png)"
   ]
  },
  {
   "cell_type": "markdown",
   "id": "034efbc2",
   "metadata": {},
   "source": [
    "# Генеративная модель"
   ]
  },
  {
   "cell_type": "markdown",
   "id": "ffc58567",
   "metadata": {},
   "source": [
    "На примере с картой мира мы побывали в роли генеративной модели.\n",
    "\n",
    "Еще раз рассмотрим как работает генеративная модель.\n",
    "\n",
    "![image](images/source_of_data.png)"
   ]
  },
  {
   "cell_type": "markdown",
   "id": "3ca7fbaf",
   "metadata": {},
   "source": [
    "У нас есть некоторый источник порождающий данные $X^{data}$.\n",
    "\n",
    "$Х^{data}$ - это случайная величина.\n",
    "Случайная, т.е. есть Неопределенность. Мы не знаем какое значение будет получено следующим.\n",
    "\n",
    "Для нас Источник данных это \"черная коробочка\" или \"таинственный сундук\".\n",
    "\n",
    "Как он устроен внутри неизвестно.\n",
    "\n",
    "Неизвестно статистическое распределение $P_{data}$ (или вероятностная модель) согласно которой генерируются эти данные $X^{data}$.\n",
    "\n",
    "В целом распределения $P_{data}$ у Источника может и не быть, но в задаче генеративного моделирования мы полагаем, что оно есть.\n",
    "\n",
    "Мы наблюдали за Источником, и собрали некоторую выборку $X^{data}$ из экспериментальных данных $X^{data}=\\left\\lbrace X_1^{data}, X_2^{data},X_3^{data}, ...,\\right\\rbrace$ , размером $n$.\n",
    "\n",
    "Пока мы рассматриваем одномерную случайную величину $X^{data}$  , она является действительным числом.\n",
    "Отобразим все значения выборки $Х^{data}$ на Оси $Х$."
   ]
  },
  {
   "cell_type": "markdown",
   "id": "53d431c3",
   "metadata": {},
   "source": [
    "![image](images/generative_model.png)"
   ]
  },
  {
   "cell_type": "markdown",
   "id": "ee6815c8",
   "metadata": {},
   "source": [
    "**Генеративная модель:**\n",
    "* принимает в себя экспериментальную выборку значений $Х^{data}$\n",
    "* моделирует статистическое распределение наших данных на основе значений $Х^{data}$\n",
    "\n",
    "Она \"подбирает\" статистическое распределение $P_{model}(Х)$, которое по ее мнению лучшим образом описывает процесс генерации данных.\n",
    "Имея распределение $P_{model}(Х)$, мы можем генерировать новые образцы данных $X^{model}$, но уже из этого распределения.\n",
    "\n",
    "Мы хотим, чтобы:\n",
    "* Сгенерированные ей образы $X^{model}$ были похожими на образцы $X^{data}$.\n",
    "\n",
    "Чем больше $P_{model}(Х)$ походит на $P_{data}(X)$, тем больше образцы $X^{model}$ будут походить на образцы $X^{data}$.\n",
    "\n",
    "* Модель генерировала новые образцы, отличающиеся от тех, что были в обучающей выборке $X$.\n",
    "\n",
    "А не просто запомнила, нашу выборку и отдавала значения из нее."
   ]
  },
  {
   "cell_type": "markdown",
   "id": "5a7215ae",
   "metadata": {},
   "source": [
    "# Теория вероятностей\n",
    "\n",
    "В контексте генеративных моделей мы остановимся на том, что `Теория вероятности`:\n",
    "\n",
    "* Изучает случайные события\n",
    "* Моделирует случайные события с помощью статистических распределений (моделей) с некоторыми параметрами\n",
    "\n",
    "Для генерации чисел мы можем использовать распределения из Теории вероятностей.\n",
    "\n",
    "Например, такие как на рисунке ниже."
   ]
  },
  {
   "cell_type": "markdown",
   "id": "adb8dee5",
   "metadata": {},
   "source": [
    "![image](images/continious_and_discrete_distributions.jpg)"
   ]
  },
  {
   "cell_type": "markdown",
   "id": "1da1e4a2",
   "metadata": {},
   "source": [
    "Отметим, что случайные величины бывают дискретными и непрерывными (см. рисунок ниже).\n",
    "\n",
    "Дискретная случ. величина - принимает конечное или счетное множество значений.\n",
    "- **Пример:** Количество очков, выпавших при броске игральной кости.\n",
    "\n",
    "Непрерывная случ. величина - принимает любые значения из некоторого непрерывного интервала.\n",
    "* **Пример:** Нормированная координата по высоте экрана смартфона, куда пользователь тапнет пальцем.\n",
    "\n",
    "`Пространство элементарных событий` — множество $\\Omega$ всех возможных исходов случайного эксперимента. \n",
    "\n",
    "Будем обозначать $e_i$ - возможный исход эксперимента.\n",
    "\n",
    "**Пространства событий:**\n",
    "* у дискретной величины это конечное/счетное множество возможных исходов\n",
    "* у непрерывной - непрерывный отрезок\n",
    "\n",
    "**Подход к определению вероятности тоже разный:**\n",
    "* для непрерывной случайной величины задана **Функция плотности вероятности (Probability density function,  сокр. `PDF` )**\n",
    "\n",
    "`PDF` - это функция $f(x)$, которая определяет вероятность того, что непрерывная случайная величина $X$ примет значение в бесконечно малом интервале $\\left[x,x+dx\\right]$.\n",
    "\n",
    "* для дискретной случайной величины задана **Функция вероятности (Probability mass function сокр. `PMF` )**\n",
    "\n",
    "В англоязычном термине подчеркивается ее противоположность `плотности` вероятности в виде `массы` вероятности.\n",
    "\n",
    "`PMF` - это функция $f(x)$, возвращающая вероятность $P$ того, что дискретная случайная величина $x$ примет определённое значение."
   ]
  },
  {
   "cell_type": "markdown",
   "id": "83111a33",
   "metadata": {},
   "source": [
    "![image](images/random_variables.png)"
   ]
  },
  {
   "cell_type": "markdown",
   "id": "a0409915",
   "metadata": {},
   "source": [
    "Принципиальная разница(см. рисунок ниже) в том, что\n",
    "* при дискретной случ. величине вероятность определяется для опр. исхода (появление 4-очков на игральной кости)\n",
    "* для непрерывной случ. величины определяется вероятность попасть в интервал возможных значений величины Х( тапнуть в нижнюю часть экрана смартфона, нормированная координата по высоте от 0 до 0.5).\n",
    "\n",
    "Как мы видим, вероятность появления, конкретного значения $Х=a$ для непрерывной величины (в точке) равна 0, потому, что длинна отрезка $[a,a]$, равна 0.\n",
    "\n",
    "Здесь приведены примеры и свойства для:\n",
    "* функции плотности вероятности `PDF`\n",
    "* функции вероятности `PMF`"
   ]
  },
  {
   "cell_type": "markdown",
   "id": "1d5255b7",
   "metadata": {},
   "source": [
    "![image](images/pdf_and_pmf.png)"
   ]
  },
  {
   "cell_type": "markdown",
   "id": "d7f64a51",
   "metadata": {},
   "source": [
    "## Распределения непрерывной случайной величины\n",
    "\n",
    "Функция плотности вероятности (`PDF`) - обычно представлена непрерывной функций в виде аналитической формулы с параметрами распределения.\n",
    "\n",
    "Свойства:\n",
    "* Значения $PDF(X=x) \\ge 0$\n",
    "* Интеграл по области определения $\\int_{A}^{B}PDF(x)\\,\\mathrm{d}x=1$\n",
    "\n",
    "Рассмотрим `PDF` и ее свойства на модели нормального распределения $Norm(\\mu, \\sigma ^{2})$."
   ]
  },
  {
   "cell_type": "markdown",
   "id": "3e5b622e",
   "metadata": {},
   "source": [
    "### Нормальное распределение $Norm(\\mu, \\sigma ^{2})$\n",
    "\n",
    "`Normal distribution` - английский термин в статьях и фреймворках."
   ]
  },
  {
   "cell_type": "markdown",
   "id": "0fa039d4",
   "metadata": {},
   "source": [
    "Модель нормального распределения $Norm(\\mu, \\sigma ^{2})$ с параметрами:\n",
    "* $\\mu$ — `математическое ожидание` (`первый момент случайной величины`), а так же `медиана` и единственная `мода`.\n",
    "\n",
    "Свойства: Центр симметрии распределения, точка максимума `PDF`.\n",
    "\n",
    "* $\\sigma ^{2}$ — `дисперсия` (`второй момент случайной величины`). Корнем из нее будет параметр $\\sigma$ - `среднеквадратичное отклонение`.\n",
    "\n",
    "Свойства: Определяет ширину и высоту кривой `PDF`. Чем больше $\\sigma$, тем шире и ниже кривая `PDF`.\n",
    "\n",
    "> Зафиксировав значения параметров $Norm(\\mu, \\sigma ^{2})$ распределения $$\\theta=\\left\\lbrace\\mu=0,\\sigma=1\\right\\rbrace$$ мы получаем точный статистический закон описывающий вероятностный процесс генерации всех наших данных, -  функцию плотности вероятности `PDF`) для непрерывной случ. величины."
   ]
  },
  {
   "cell_type": "markdown",
   "id": "ca6faf9a",
   "metadata": {},
   "source": [
    "#### Probability Density Function\n",
    "\n",
    "Функция плотности вероятности (`PDF`) для нормального распределения:\n",
    "\n",
    "$$f(x)=Norm(\\mu, \\sigma ^{2} \\mid x)={\\frac{1}{\\sqrt{2\\;\\pi\\sigma^{2}}}}\\cdot e^{-\\;{\\frac{(x-\\mu)^{2}}{2\\sigma^{2}}}}$$"
   ]
  },
  {
   "cell_type": "code",
   "execution_count": 2,
   "id": "07743fe8",
   "metadata": {},
   "outputs": [
    {
     "data": {
      "image/png": "[encoded data removed]",
      "text/plain": [
       "<Figure size 1000x600 with 1 Axes>"
      ]
     },
     "metadata": {},
     "output_type": "display_data"
    }
   ],
   "source": [
    "norm_distr_mu = 0  # математическое ожидание\n",
    "norm_distr_sigma = 1  # среднеквадратичное отклонение\n",
    "\n",
    "# Демо свойств:\n",
    "# norm_distr_mu = 2\n",
    "# norm_distr_sigma = 1\n",
    "\n",
    "# norm_distr_mu = 0\n",
    "# norm_distr_sigma = 3\n",
    "\n",
    "# norm_distr_mu = 0\n",
    "# norm_distr_sigma = 0.2\n",
    "\n",
    "# Создание объекта нормального распределения\n",
    "normal_dist = stats.norm(loc=norm_distr_mu, scale=norm_distr_sigma)\n",
    "\n",
    "x = np.linspace(-4, 4, 100)\n",
    "y = normal_dist.pdf(x)\n",
    "\n",
    "# Построение графика функции плотности распределения\n",
    "plt.figure(figsize=(10, 6))\n",
    "plt.plot(\n",
    "    x, y, \"b-\", lw=2, label=f\"$Norm(\\mu={norm_distr_mu}, \\sigma={norm_distr_sigma})$\"\n",
    ")\n",
    "\n",
    "# Добавление дополнительных элементов\n",
    "plt.title(\"График функции плотности распределения\")\n",
    "plt.xlabel(\"$x$\")\n",
    "plt.ylabel(\"$f(x)$\")\n",
    "plt.grid(True)\n",
    "plt.legend()\n",
    "\n",
    "# Задание диапазонов для обеих осей\n",
    "plt.xlim(-4, 4)\n",
    "\n",
    "plt.show()"
   ]
  },
  {
   "cell_type": "markdown",
   "id": "fa45cc93",
   "metadata": {},
   "source": [
    "**Ключевой момент:**\n",
    "* вероятность, что непрерывная случайная величина примет значение $x\\in\\left\\lbrack a,b\\right\\rbrack$ равна\n",
    "$$ P(x\\in[a,b])=\\int_a^bf(x)\\,\\mathrm{d}x $$\n",
    "\n",
    "Отобразим вероятность $P(x\\in[a, b])$ на графике `pdf` имеющегося нормального распределения $Norm(\\mu=0, \\sigma=1)$."
   ]
  },
  {
   "cell_type": "code",
   "execution_count": 3,
   "id": "1f9efb21",
   "metadata": {},
   "outputs": [
    {
     "data": {
      "image/png": "[encoded data removed]",
      "text/plain": [
       "<Figure size 1000x600 with 1 Axes>"
      ]
     },
     "metadata": {},
     "output_type": "display_data"
    }
   ],
   "source": [
    "# Построим график нормального распределения\n",
    "plt.figure(figsize=(10, 6))\n",
    "plt.plot(\n",
    "    x, y, \"b-\", lw=2, label=f\"$Norm(\\mu={norm_distr_mu}, \\sigma={norm_distr_sigma})$\"\n",
    ")\n",
    "\n",
    "# Определим границы области интегрирования для расчета вероятности\n",
    "a = 0\n",
    "b = 2\n",
    "\n",
    "# Демо свойств:\n",
    "# a = -1\n",
    "# b = 1\n",
    "\n",
    "# a = 1\n",
    "# b = 1\n",
    "\n",
    "# a = -4\n",
    "# b = 4\n",
    "\n",
    "# Вычисление вероятности попадания в интервал от -1 до 1\n",
    "probability = normal_dist.cdf(b) - normal_dist.cdf(a)\n",
    "\n",
    "# Закрашивание области интегрирования соответствующей значению вероятности\n",
    "plt.fill_between(\n",
    "    x,\n",
    "    y,\n",
    "    where=(x >= a) & (x <= b),\n",
    "    color=\"blue\",\n",
    "    alpha=0.3,\n",
    "    label=f\"$P(x\\in[{a}, {b}]) = {probability:.2f}$\",\n",
    ")\n",
    "\n",
    "# Настройка графика\n",
    "plt.legend()\n",
    "plt.title(\"График функции плотности распределения\")\n",
    "plt.xlabel(\"$x$\")\n",
    "plt.ylabel(\"$f(x)$\")\n",
    "plt.grid(True)\n",
    "\n",
    "# Задание диапазонов для обеих осей\n",
    "plt.xlim(-4, 4)\n",
    "\n",
    "plt.show()"
   ]
  },
  {
   "cell_type": "markdown",
   "id": "43e6b9c8",
   "metadata": {},
   "source": [
    "#### Генерация выборки из распределения"
   ]
  },
  {
   "cell_type": "code",
   "execution_count": 4,
   "id": "bd434d7a",
   "metadata": {},
   "outputs": [
    {
     "name": "stdout",
     "output_type": "stream",
     "text": [
      "[ 0.49671415 -0.1382643   0.64768854  1.52302986 -0.23415337 -0.23413696\n",
      "  1.57921282  0.76743473]\n"
     ]
    }
   ],
   "source": [
    "# Генерация 8 случайных чисел с нормальным распределением\n",
    "normal_numbers = normal_dist.rvs(size=8)\n",
    "\n",
    "# Вывод результатов\n",
    "print(normal_numbers)"
   ]
  },
  {
   "cell_type": "markdown",
   "id": "157f66f1",
   "metadata": {},
   "source": [
    "## Распределения дискретной случайной величины\n",
    "\n",
    "Функция вероятности (`PMF`) - обычно представлена дискретной функций в виде комбинаторной формулы с параметрами распределения.\n",
    "\n",
    "Иногда в виде таблицы (Например, Категориальное распределение):\n",
    "\n",
    "| значение элементарного исхода $e_i$ | вероятность появления |\n",
    "| ----------------------------------- | --------------------- |\n",
    "| 0                                   | 0.5                   |\n",
    "| 1                                   | 0.3                   |\n",
    "| 2                                   | 0.2                   |\n",
    "\n",
    "\n",
    "Свойства:\n",
    "* Значения $0\\le PMF\\left(X=x\\right)\\le1$\n",
    "* Сумма вероятностей всех событий $\\underset{i}{\\overset{m}{\\sum}}PMF(e_i)=1$\n",
    "\n",
    "Рассмотрим `PMF` и ее свойства на нескольких моделях распределений для дискретной случ. величины."
   ]
  },
  {
   "cell_type": "markdown",
   "id": "fc36e960",
   "metadata": {},
   "source": [
    "### Категориальное распределение $Cat(p_d)$\n",
    "\n",
    "`Categorical distribution` - английский термин в статьях и фреймворках.\n",
    "\n",
    "Мы разработчики компьютерной RPG игры (см. рисунок ниже).\n",
    "\n",
    "Есть персонаж игры и он может открыть сундук с сокровищами, используя отмычку.\n",
    "\n",
    "При открытии сундука персонаж может получить предметы 3х уровней:\n",
    "* дешевый предмет\n",
    "* обычный предмет\n",
    "* ценный предмет\n",
    "\n",
    "Используя категориальное распределение мы можем определить с какой вероятностью игрок будет получать ту или иную награду. "
   ]
  },
  {
   "cell_type": "markdown",
   "id": "6f4f1f69",
   "metadata": {},
   "source": [
    "![image](images/categorical_distribution.png)"
   ]
  },
  {
   "cell_type": "markdown",
   "id": "9b3d66b5",
   "metadata": {},
   "source": [
    "У нас есть схема `эксперимента с d-возможными исходами`.\n",
    "\n",
    "Мы рассматриваем 1 эксперимент и вероятности происхождения всех элементарных исходов $$\\Omega=\\left\\lbrace e_1, e_2, e_3, ..., e_d \\right\\rbrace$$\n",
    "\n",
    "Модель `Категориального распределения` $Cat(p_d)$ имеет параметр:\n",
    "   * $p_d$ - который представляет собой вектор вероятностей размерности $d$ для наступления каждого из элементарных исходов отдельного эксперимента.\n",
    "\n",
    "Моделируем вероятности получения награды с его помощью.\n",
    "\n",
    "`Пространство элементарных событий` в нашем случае:\n",
    "$$\\Omega=\\left\\lbrace 0, 1, 2 \\right\\rbrace$$\n",
    "\n",
    "В нашем случае, у нас 3 возможных исхода: `'0', '1', '2'`, и $d=3$.\n",
    "\n",
    "$p_{d=3}=[p_0, p_1, p_2]$:\n",
    "\n",
    "где\n",
    "* $p_0$ - вероятность наступления события `'0'`\n",
    "* $p_1$ - вероятность наступления события `'1'`\n",
    "* $p_2$ - вероятность наступления события `'2'`\n",
    "\n",
    "Поскольку это все возможные исходы эксперимента:\n",
    "$$\\underset{i}{\\overset{d}{\\sum}}p_i=1$$\n",
    "\n",
    "> Зафиксировав параметр $Cat(p_d)$ распределения $$\\theta=\\left\\lbrace p_d=[0.5, 0.3, 0.2] \\right\\rbrace$$ мы получаем точный статистический закон описывающий вероятностный процесс генерации всех наших данных, - `функцию вероятностей (PMF)` дискретного распределения."
   ]
  },
  {
   "cell_type": "markdown",
   "id": "74606a5a",
   "metadata": {},
   "source": [
    "#### Probability Mass Function\n",
    "\n",
    "`Функция вероятности (PMF)` для Категориального распределения $Cat(p_d)$:\n",
    "\n",
    "$$f\\left(x_i\\right)=Cat\\left(p_d \\mid x=x_i \\right)=\\left\\{\n",
    "\\begin{array}{llllllllll}\n",
    "\tp_1, x=e_1  \\\\\n",
    "\tp_2, x=e_2 \\\\\n",
    "\t... \\\\\n",
    "\tp_d, x=e_d\n",
    "\\end{array}\\right.$$\n",
    "\n",
    "при $x_i \\in \\Omega=\\left\\lbrace e_1, e_2, e_3, ..., e_d \\right\\rbrace$"
   ]
  },
  {
   "cell_type": "code",
   "execution_count": 5,
   "id": "95285078",
   "metadata": {},
   "outputs": [
    {
     "data": {
      "image/png": "[encoded data removed]",
      "text/plain": [
       "<Figure size 1000x600 with 1 Axes>"
      ]
     },
     "metadata": {},
     "output_type": "display_data"
    }
   ],
   "source": [
    "# готового варианта для Categorical Distribution не нашел написал свой вариант =)\n",
    "from categorical_distribution import CategoricalDistribution\n",
    "\n",
    "# Параметры распределения\n",
    "pd = [0.5, 0.3, 0.2]\n",
    "values = [0, 1, 2]\n",
    "\n",
    "# частный случай, - дискретное равномерное распределение\n",
    "# pd = [0.2, 0.2, 0.2, 0.2, 0.2]\n",
    "# values = [0, 1, 2, 3, 4]\n",
    "\n",
    "# частный случай, - распределение Бернулли\n",
    "# pd = [0.8, 0.2]\n",
    "# values = [0, 1]\n",
    "\n",
    "# значение k для которого хотим подписать вероятность на графике\n",
    "x_i = 1\n",
    "\n",
    "# Вычисляем функцию вероятностей (pmf)\n",
    "cat_dist = CategoricalDistribution(values=values, pd=pd)\n",
    "x = np.array(values)\n",
    "y = cat_dist.pmf(x)\n",
    "\n",
    "# Построение графика функции вероятности\n",
    "fig, ax = plt.subplots(figsize=(10, 6))\n",
    "ax.stem(x, y, label=f\"$Cat(p_d={pd})$\")\n",
    "ax.set_xticks(x)\n",
    "\n",
    "# Подпишем вероятности на графике\n",
    "ax.text(\n",
    "    x[x_i],\n",
    "    y[x_i],\n",
    "    f\"$P(x={x[x_i]})={y[x_i]:.2f}$\",\n",
    "    verticalalignment=\"bottom\",\n",
    "    horizontalalignment=\"left\",\n",
    "    fontsize=14,\n",
    ")\n",
    "\n",
    "# Добавление дополнительных элементов\n",
    "plt.title(f\"Функция вероятности\")\n",
    "plt.xlabel(\"$x_i$\")\n",
    "plt.ylabel(\"$P(x=x_i)$\")\n",
    "plt.grid(True)\n",
    "plt.legend()\n",
    "plt.show()"
   ]
  },
  {
   "cell_type": "markdown",
   "id": "aa1aee0c",
   "metadata": {},
   "source": [
    "**Ключевой момент:**\n",
    "* Вероятность, что дискретная случайная величина ($x$) примет конкретное значение ($a$) равна значению функции вероятности $f(x)$ для этой точки:\n",
    " $$ P(x=a)=f(x=a)$$"
   ]
  },
  {
   "cell_type": "markdown",
   "id": "167c9960",
   "metadata": {},
   "source": [
    "#### Генерация выборки из распределения"
   ]
  },
  {
   "cell_type": "code",
   "execution_count": 6,
   "id": "d4199ddf",
   "metadata": {},
   "outputs": [
    {
     "name": "stdout",
     "output_type": "stream",
     "text": [
      "[0 2 2 0 0 0 0 1]\n"
     ]
    }
   ],
   "source": [
    "sample_size = 8  # количество чисел для генерации\n",
    "\n",
    "# Генерируем последовательность из 8 элементов\n",
    "sequence = np.random.choice(values, p=pd, size=sample_size)\n",
    "print(sequence)"
   ]
  },
  {
   "cell_type": "markdown",
   "id": "a676e109",
   "metadata": {},
   "source": [
    "### Распределение Бернулли $Bern(p)$\n",
    "\n",
    "`Bernoulli distribution` - английский термин в статьях и фреймворках.\n",
    "\n",
    "Мы разработчики компьютерной RPG игры (см. рисунок ниже).\n",
    "\n",
    "Есть персонаж игры и он может открыть сундук с сокровищами, используя отмычку.\n",
    "\n",
    "При открытии сундука персонаж может:\n",
    "* открыть сундук \"успех\"\n",
    "* не открыть сундук \"неудача\"\n",
    "\n",
    "Используя распределение Бернулли мы можем определить с какой вероятностью сможет открыть сундук в игре. "
   ]
  },
  {
   "cell_type": "markdown",
   "id": "066f62b5",
   "metadata": {},
   "source": [
    "![images](images/bernulli_distribution.png)"
   ]
  },
  {
   "cell_type": "markdown",
   "id": "6f874513",
   "metadata": {},
   "source": [
    "Схема `эксперимента Бернулли`.\n",
    "\n",
    "Мы рассматриваем 1 эксперимент и вероятности происхождения исходов $$\\Omega=\\left\\lbrace 0, 1 \\right\\rbrace$$\n",
    "\n",
    "\n",
    "* `1` произошло `интересное` для нас событие. \n",
    "\n",
    "По терминологии схемы `эксперимента Бернулли` это событие называется `успех`.\n",
    "\n",
    "Вероятность этого события обозначим $p=P(x=1)$\n",
    "\n",
    "* `0` `интересного` для нас события не случилось.\n",
    "\n",
    "По терминологии схемы `эксперимента Бернулли` это событие называется `неудача`.\n",
    "\n",
    "Вероятность этого события обозначим $q=P(x=0)$ и $q=1-p$. \n",
    "\n",
    "Модель `распределения Бернулли` $Bern(p)$ имеет параметр:\n",
    "   * $p$ - который представляет собой вероятность наступления события-`успеха`.\n",
    "\n",
    "Моделируем вероятность открытия сундука с его помощью:\n",
    "* `1` - сундук открыт, `успех`.\n",
    "* `0` - сундук остался закрытым, `неудача`.\n",
    "\n",
    "> Зафиксировав значение параметра $Bern(p)$ распределения $$\\theta=\\left\\lbrace p=0.3\\right\\rbrace$$ мы получаем точный статистический закон описывающий вероятностный процесс генерации всех наших данных, - `функцию вероятностей` дискретного распределения.\n",
    "\n"
   ]
  },
  {
   "cell_type": "markdown",
   "id": "f3400f33",
   "metadata": {},
   "source": [
    "#### Probability Mass Function\n",
    "\n",
    "`Функция вероятности (PMF)` для распределения Бернулли $Bern(p)$:\n",
    "\n",
    "$$Bern\\left(p \\mid x=a \\right)=\\left\\lbrace\n",
    "\\begin{array}{llllllllll}\n",
    "\tp   & ,x=1                                  \\\\\n",
    "\t1-p & ,x=0                                  \\\\\n",
    "\\end{array}\\right\\rbrace$$\n",
    "\n",
    "при $a \\in \\left\\lbrace0,1\\right\\rbrace$"
   ]
  },
  {
   "cell_type": "code",
   "execution_count": 7,
   "id": "ee88bfae",
   "metadata": {},
   "outputs": [
    {
     "data": {
      "image/png": "[encoded data removed]",
      "text/plain": [
       "<Figure size 1000x600 with 1 Axes>"
      ]
     },
     "metadata": {},
     "output_type": "display_data"
    }
   ],
   "source": [
    "# Параметры распределения\n",
    "p = 0.3\n",
    "\n",
    "# Создание объекта распределения Бернулли\n",
    "bernoulli_dist = stats.bernoulli(p=p)\n",
    "\n",
    "x = np.arange(0, 1 + 1)\n",
    "y = bernoulli_dist.pmf(x)\n",
    "\n",
    "# Построение графика функции вероятности\n",
    "fig, ax = plt.subplots(figsize=(10, 6))\n",
    "ax.stem(x, y, label=f\"$Bern(p={p})$\")\n",
    "ax.set_xticks(x)\n",
    "\n",
    "# Подпишем вероятности на графике\n",
    "ax.text(\n",
    "    0,\n",
    "    1 - p,\n",
    "    f\"$P(x={0})={1-p:.2f}$\",\n",
    "    verticalalignment=\"bottom\",\n",
    "    horizontalalignment=\"left\",\n",
    "    fontsize=14,\n",
    ")\n",
    "\n",
    "ax.text(\n",
    "    1,\n",
    "    p,\n",
    "    f\"$P(x={1})={p:.2f}$\",\n",
    "    verticalalignment=\"bottom\",\n",
    "    horizontalalignment=\"left\",\n",
    "    fontsize=14,\n",
    ")\n",
    "\n",
    "# Добавление дополнительных элементов\n",
    "plt.title(f\"Функция вероятности\")\n",
    "plt.xlabel(\"$x_i$\")\n",
    "plt.ylabel(\"$P(x=x_i)$\")\n",
    "plt.grid(True)\n",
    "plt.legend()\n",
    "plt.show()"
   ]
  },
  {
   "cell_type": "markdown",
   "id": "62701aba",
   "metadata": {},
   "source": [
    "#### Генерация выборки из распределения"
   ]
  },
  {
   "cell_type": "code",
   "execution_count": 8,
   "id": "daaaf059",
   "metadata": {},
   "outputs": [
    {
     "name": "stdout",
     "output_type": "stream",
     "text": [
      "[0 0 0 0 0 0 0 1]\n"
     ]
    }
   ],
   "source": [
    "# результат работы двух функций идентичен\n",
    "def bernoulli_np(p, n=1):\n",
    "    return np.random.choice([0, 1], size=n, p=[1 - p, p])\n",
    "\n",
    "\n",
    "def bernoulli_stats(p, n=1):\n",
    "    return stats.bernoulli(p).rvs(size=n)\n",
    "\n",
    "\n",
    "sample_size = 8  # Количество чисел для генерации\n",
    "\n",
    "bernoulli_numbers = bernoulli_stats(p, sample_size)\n",
    "print(bernoulli_numbers)"
   ]
  },
  {
   "cell_type": "markdown",
   "id": "39eb1f96",
   "metadata": {},
   "source": [
    "### Биномиальное распределение $Binom(p, n)$\n",
    "\n",
    "`Binomial distribution` - английский термин в статьях и фреймворках."
   ]
  },
  {
   "cell_type": "markdown",
   "id": "5efaddc7",
   "metadata": {},
   "source": [
    "![image](images/binomial_distribution.png)"
   ]
  },
  {
   "cell_type": "markdown",
   "id": "fdcce0c5",
   "metadata": {},
   "source": [
    "Есть последовательность из экспериментов Бернулли (случайная величина $x^{Bern}$) \n",
    "\n",
    "$\\left\\lbrace x^{Bern}_1, x^{Bern}_2, x^{Bern}_3, ..., x^{Bern}_n\\right\\rbrace$:\n",
    "\n",
    "```\n",
    "[0 1 1 0 0 0 0 0 ... 1] (160 результатов от экспериментов Бернулли)\n",
    "```\n",
    "\n",
    "\n",
    "При `Биномиальном распределении` мы проводим серию из $n$ экспериментов Бернулли и нас интересует вероятность появления числа \"успехов\" $k$ в такой серии экспериментов.\n",
    "\n",
    "Например, мы взяли $n=20$ сундуков на уровне игры, и хотим узнать вероятность, того, что $k=7$ сундуков из них будут успешно открыты при вероятности открытия каждого отдельно взятого сундука ($p=0.3$).\n",
    "\n",
    "Такое событие обозначим как $A_{p=0.3, n=20, k=7}$.\n",
    "\n",
    "Это событие соответствует числу $7$.\n",
    "\n",
    "И так мы\n",
    "* берем нашу выборку $x^{Bern}$ из 160 элементов\n",
    "* делим ее на серии экспериментов по $n=20$\n",
    "* в рамках каждой серии из 20 экспериментов считаем число успехов $k$ ($x==1$)\n",
    "\n",
    "Получаем новую дискретную случайную величину\n",
    "\n",
    "$x^{Binom}=\\left\\lbrace x^{Binom}_1, x^{Binom}_2, x^{Binom}_3, ..., x^{Binom}_m\\right\\rbrace$ из 8 чисел:\n",
    "\n",
    "```\n",
    "[7 5 6 4 5 5 6 8]\n",
    "```"
   ]
  },
  {
   "cell_type": "markdown",
   "id": "940e5984",
   "metadata": {},
   "source": [
    "Модель Биномиального распределения $Binom(p, n)$ описывается параметрами:\n",
    "   * $p$ - вероятность успеха в отдельном эксперименте Бернулли.\n",
    "   * $n$ - количество экспериментов Бернулли в одной серии экспериментов.\n",
    "\n",
    "Число \"успехов\" для случайной величины $x^{Binom}$ может варьироваться от $0$ до $n$.\n",
    "\n",
    "`Пространство элементарных событий` для случайной величины $x^{Binom}$:\n",
    "$$\\Omega=\\left\\lbrace 0, 1, ..., n \\right\\rbrace$$\n",
    "\n",
    "Вероятность события $A_{p=0.3, n=20, k=7}$ обозначим $P(p=0.3, n=20, k=7)$.\n",
    "\n",
    "> Зафиксировав значение параметров $$\\theta=\\left\\lbrace p=0.3, n=20 \\right\\rbrace$$ биномиального распределения $Binom(p, n)$ мы получаем точный статистический закон описывающий вероятностный процесс генерации всех наших данных - `функцию вероятностей` дискретного распределения."
   ]
  },
  {
   "cell_type": "markdown",
   "id": "2d081f9d",
   "metadata": {},
   "source": [
    "#### Probability Mass Function\n",
    "\n",
    "`Функция вероятности(probability function)` для нашего распределения $Binom(p, n)$:\n",
    "\n",
    "$$f(x_i)=Binom(p, n \\mid x=x_i) = \\frac{n!}{k!\\left(n-k\\right)!}p^k(1-p)^{n-k}$$\n",
    "\n",
    "при $x_i \\in \\Omega=\\left\\lbrace 0, 1, ..., n \\right\\rbrace$."
   ]
  },
  {
   "cell_type": "code",
   "execution_count": 9,
   "id": "d5866593",
   "metadata": {},
   "outputs": [
    {
     "data": {
      "image/png": "[encoded data removed]",
      "text/plain": [
       "<Figure size 1000x600 with 1 Axes>"
      ]
     },
     "metadata": {},
     "output_type": "display_data"
    }
   ],
   "source": [
    "# Параметры Биномиального распределения\n",
    "p = 0.3\n",
    "n = 20\n",
    "\n",
    "# Демо параметров:\n",
    "# p = 0.7\n",
    "# n = 20\n",
    "\n",
    "# p = 0.3\n",
    "# n = 40\n",
    "\n",
    "# значение k для которого хотим подписать вероятность\n",
    "x_i = 4\n",
    "\n",
    "# Создание объекта Биномиального распределения\n",
    "binom_dist = stats.binom(p=p, n=n)\n",
    "\n",
    "x = np.arange(0, n + 1)\n",
    "y = binom_dist.pmf(x)\n",
    "\n",
    "# Построение графика функции вероятности\n",
    "fig, ax = plt.subplots(figsize=(10, 6))\n",
    "ax.stem(x, y, label=f\"$Binom(p={p}, n={n})$\")\n",
    "ax.set_xticks(x)\n",
    "\n",
    "# Подпишем вероятности на графике\n",
    "ax.text(\n",
    "    x[x_i],\n",
    "    y[x_i],\n",
    "    f\"$P(x={x[x_i]})={y[x_i]:.2f}$\",\n",
    "    verticalalignment=\"bottom\",\n",
    "    horizontalalignment=\"left\",\n",
    "    fontsize=14,\n",
    ")\n",
    "\n",
    "# Добавление дополнительных элементов\n",
    "plt.title(f\"Функция вероятности\")\n",
    "plt.xlabel(\"$x_i$\")\n",
    "plt.ylabel(\"$P(x=x_i)$\")\n",
    "plt.grid(True)\n",
    "plt.legend()\n",
    "plt.show()"
   ]
  },
  {
   "cell_type": "markdown",
   "id": "c9ff5c2b",
   "metadata": {},
   "source": [
    "#### Генерация выборки из распределения"
   ]
  },
  {
   "cell_type": "code",
   "execution_count": 10,
   "id": "1f1268da",
   "metadata": {},
   "outputs": [
    {
     "name": "stdout",
     "output_type": "stream",
     "text": [
      "[4 6 6 3 6 4 3 9]\n"
     ]
    }
   ],
   "source": [
    "sample_size = 8  # Количество чисел для генерации\n",
    "\n",
    "binomial_numbers = binom_dist.rvs(size=sample_size)\n",
    "print(binomial_numbers)"
   ]
  },
  {
   "cell_type": "markdown",
   "id": "f37723c1",
   "metadata": {},
   "source": [
    "## Теория вероятности резюме\n",
    "\n",
    "Все распределения из Теории вероятностей - простейшие модели генераторов чисел с набором параметров $\\theta$.\n",
    "\n",
    "Обозначение $P(\\theta \\mid x)$ говорит нам:\n",
    "* Распределение $P$\n",
    "* с набором параметров $\\theta$ каждый из которых равен опр. значению\n",
    "* для случайной величины, принявшей значение $x$\n",
    "* отдает нам:\n",
    "\n",
    "1. значение `функции вероятности (PMF)` для дискретной случ. величины\n",
    "\n",
    "или\n",
    "\n",
    "2. значение `функции плотности вероятности (PDF)` для непрерывной случ. величины\n",
    "\n",
    "Задавая эти параметры, мы получаем точный статистический закон по которому генерируются объекты.\n",
    "\n",
    "![image](images/parametric_models.jpg)"
   ]
  },
  {
   "cell_type": "markdown",
   "id": "4edd81ed",
   "metadata": {},
   "source": [
    "В теории вероятностей:\n",
    "\n",
    "* мы работаем с математическими моделями, которые позволяют моделировать поведение случайных величин.\n",
    "* мы всегда точно знаем какая модель случайной величины(распределение) генерирует данные.\n",
    "* все сгенерированные значения подчиняются этому фундаментальному для них закону.\n",
    "\n",
    "Теория вероятности дала нам множество моделей с параметрами для генерации объектов.\n",
    "\n",
    "* Как же создать на их основе генеративную модель?"
   ]
  },
  {
   "cell_type": "markdown",
   "id": "a5117e16",
   "metadata": {},
   "source": [
    "# Математическая статистика"
   ]
  },
  {
   "cell_type": "markdown",
   "id": "dc2c7569",
   "metadata": {},
   "source": [
    "## Постановка задачи Мат. статистики\n",
    "\n",
    "Где то мы уже слышали раньше, что то похожее... (см. рисунок ниже).\n",
    "\n",
    "У нас есть некоторый источник порождающий данные $X^{data}$.\n",
    "\n",
    "$Х^{data}$ - это случайная величина.\n",
    "\n",
    "Случайная, т.е. есть Неопределенность. Мы не знаем какое значение будет получено следующим.\n",
    "\n",
    "Для нас Источник данных это \"черная коробочка\" или \"таинственный сундук\".\n",
    "\n",
    "Как он устроен внутри неизвестно.\n",
    "\n",
    "Мы наблюдали за Источником, и собрали некоторую выборку $X^{data}$ из экспериментальных данных \n",
    "\n",
    "$X^{data}=\\left\\lbrace X_1^{data}, X_2^{data},X_3^{data}, ...,\\right\\rbrace$ , размером $n$.\n",
    "\n",
    "![image](images/mathematical_statistics.png)"
   ]
  },
  {
   "cell_type": "markdown",
   "id": "e58f4bdd",
   "metadata": {},
   "source": [
    "Мы предполагаем, что все объекты выборки:\n",
    "\n",
    "* `independent` (`независимы`)\n",
    "\n",
    "Вероятность появления одного объекта выборки не влияет на вероятность появления другого объекта.\n",
    "\n",
    "* `identically distributed` (`одинаково распределены`)\n",
    "\n",
    "Все объекты выборки имеют одинаковое распределение вероятностей $P_{data}(\\theta \\mid x)$.\n",
    "\n",
    "Или по другому, что все объекты выборки были сгенерированы одной моделью $P_{data}(\\theta \\mid x)$\n",
    "\n",
    "Это фундаментальное предположение `i.i.d. - Independent and Identically Distributed` (`Независимы и одинаково распределены`) в математической статистике.\n",
    "\n",
    "Это предположение позволяет нам считать, что все объекты выборки были сгенерированы распределением:\n",
    "\n",
    "* $P_{data}(\\theta=\\theta' \\mid x)$\n",
    "* с набором параметров $\\theta=\\theta'$\n",
    "\n",
    "Мы не знаем:\n",
    "* саму модель распределения\n",
    "* значения ее параметров $\\theta'$, с которыми оно генерирует выборку"
   ]
  },
  {
   "cell_type": "markdown",
   "id": "2e99d3c0",
   "metadata": {},
   "source": [
    "Специалист по Мат. статистике предполагает опр. модель из Теории вероятностей.\n",
    "\n",
    "$P_{model}\\left(\\theta \\mid х \\right)$\n",
    "\n",
    "Нужно как то \"подобрать\" все параметры модели по экспериментальной выборке:\n",
    "\n",
    "$\\left\\lbrace X_1^{data}, X_2^{data}, X_3^{data}, ..., X_n^{data} \\right\\rbrace$\n",
    "\n",
    "В математической статистике существуют `методы оценки параметров`.\n",
    "\n",
    "Они позволяют подобрать `оптимальные` значения параметров:\n",
    "\n",
    "$\\theta=\\hat{\\theta}$\n",
    "\n",
    "для выбранной модели $P_{model}\\left(\\theta=\\hat{\\theta} \\mid х \\right)$ распределения на экспериментальной выборке $X^{data}$.\n",
    "\n",
    "\n"
   ]
  },
  {
   "cell_type": "markdown",
   "id": "37ae432e",
   "metadata": {},
   "source": [
    "Важный момент:\n",
    "\n",
    "- `Теория вероятностей` предоставляет `модели распределений` для описания случайных величин, а `Математическая статистика` использует эти `модели распределений` для анализа экспериментальных данных.\n",
    "\n",
    "Проводя аналогию с `Машинным обучением`, можно сказать, что `мат. статистка` позволяет \"обучать\" параметры выбранных моделей из `Теории вероятностей` на экспериментальной выборке."
   ]
  },
  {
   "cell_type": "markdown",
   "id": "fe75b668",
   "metadata": {},
   "source": [
    "### Пример зависимых событий (извлечение шаров из урны безвозвратно)\n",
    "\n",
    "У нас есть урна с 4-мя шарами:\n",
    "* 2 `синих`\n",
    "* 2 `красных`\n",
    "\n",
    "Мы каждый раз достаем из урны 1 шар и не возвращаем его назад.\n",
    "\n",
    "* Какая это модель статистического распределения и каковы ее параметры $\\theta$?\n",
    "\n",
    "Мы хотим извлечь первый шар из урны(объект выборки 1):\n",
    "\n",
    "* $P(красный)=\\frac{2}{4}=\\frac{1}{2}$\n",
    "* $P(синий)=\\frac{2}{4}=\\frac{1}{2}$\n",
    "* $P(красный)=P(синий)$\n",
    "\n",
    "Допустим мы достали из урны `красный` шар и не вернули его обратно.\n",
    "\n",
    "Теперь мы хотим извлечь второй шар из урны(объект выборки 2).\n",
    "\n",
    "Теперь у нас урна с 3-мя шарами:\n",
    "* 2 синих\n",
    "* 1 красных\n",
    "\n",
    "Т.е. после появления `красного` шара в нашей выборке, последующие вероятности появления шаров изменились:\n",
    "\n",
    "* $P(красный)=\\frac{1}{3}$\n",
    "* $P(синий)=\\frac{2}{3}$\n",
    "* $P(красный) \\ne P(синий)$"
   ]
  },
  {
   "cell_type": "markdown",
   "id": "075068b8",
   "metadata": {},
   "source": [
    "### Пример независимых событий (извлечение шаров из урны с возвращением)\n",
    "\n",
    "У нас есть урна с 4-мя шарами:\n",
    "* 2 `синих`\n",
    "* 2 `красных`\n",
    "\n",
    "Мы каждый раз достаем из урны 1 шар и возвращаем его назад.\n",
    "\n",
    "* Какая это модель статистического распределения и каковы ее параметры $\\theta$?\n",
    "\n",
    "Мы хотим извлечь первый шар из урны(объект выборки 1):\n",
    "\n",
    "* $P(красный)=\\frac{2}{4}=\\frac{1}{2}$\n",
    "* $P(синий)=\\frac{2}{4}=\\frac{1}{2}$\n",
    "* $P(красный)=P(синий)$\n",
    "\n",
    "Допустим мы достали из урны `красный` шар и вернули его обратно.\n",
    "\n",
    "Теперь мы хотим извлечь второй шар из урны(объект выборки 2).\n",
    "\n",
    "Исходные данные не изменились, - урна с 4-мя шарами:\n",
    "* 2 синих\n",
    "* 2 красных\n",
    "\n",
    "После появления `красного` шара в нашей выборке, последующие вероятности появления шаров не изменились:\n",
    "\n",
    "* $P(красный)=\\frac{2}{4}=\\frac{1}{2}$\n",
    "* $P(синий)=\\frac{2}{4}=\\frac{1}{2}$\n",
    "* $P(красный)=P(синий)$"
   ]
  },
  {
   "cell_type": "markdown",
   "id": "8c6f8720",
   "metadata": {},
   "source": [
    "## Два подхода мат. статистики\n",
    "\n",
    "**Вопрос:** Так какие методы можно использовать для подбора параметров статистической модели?\n",
    "\n",
    "**Ответ:** Зависит от того как смотреть на случайность.\n",
    "\n",
    "Есть два разных подхода к восприятию случайности и они приводят к двум разным разделам статистики:\n",
    "* Частотная мат. статистика `Frequentist statistics` Рональд Фишер (Ronald Aylmer Fisher)\n",
    "* Байесовские методы `Bayesian statistics` Томас Байес (Thomas Bayes) и Пьер-Симон Лаплас (Pierre-Simon Laplace)\n",
    "\n",
    "![image](images/frequentist_and_byesians.png)"
   ]
  },
  {
   "cell_type": "markdown",
   "id": "dd550ad0",
   "metadata": {},
   "source": [
    "### Сравнительная таблица подходов от Дмитрия Ветрова"
   ]
  },
  {
   "cell_type": "markdown",
   "id": "22e2a84a",
   "metadata": {},
   "source": [
    "|                                                                        | Frequentist                                                                                                                               | Bayesian                                                                                                                                                                                                                        |\n",
    "| ---------------------------------------------------------------------- | ----------------------------------------------------------------------------------------------------------------------------------------- | ------------------------------------------------------------------------------------------------------------------------------------------------------------------------------------------------------------------------------- |\n",
    "| интерпретация<br>случайности                                           | **Объективная неопределённость**<br>есть случайные процессы<br>их принципиально нельзя<br>предсказать.<br>Примеры:<br>* квантовая физика  | **Субъективное незнание**<br>все определено, но у нас нет <br>всех данных для однозначного<br>прогнозирования.<br>Случайность, как мера нашего незнания.<br>(нет нужных данных)<br>Примеры:<br>* бросок монеты, приход автобуса |\n",
    "| Величины                                                               | Случайные и детерминированные.<br>Случайная величина:<br>- случ. величина (опр. распределением)<br>Параметры модели:<br>- детерминированы | Все можно интерпретировать<br>как случайную величину.<br>Случайная величина:<br>- случ. величина(опр. распределением)<br>Параметры модели:<br>- случ. величина(опр. распределением)                                             |\n",
    "| Метод<br>оценки<br>параметров<br>модели <br>(Вывод)<br>(Inference)<br> | Точечные оценки:<br>(оптимальные значения параметров)<br>- Метод максимального правдоподобия(MLE)<br>- Метод моментов<br>                 | - Байесовский вывод:<br>(Апостериорное распределение)                                                                                                                                                                           |\n",
    "| Применимость                                                           | n >> d<br>n - размер выборки<br>d - размерность параметров                                                                                | ∀n<br>n - размер выборки                                                                                                                                                                                                        |\n",
    "| Совместимость                                                          | Изначально работает в области<br>n >> d                                                                                                   | при n → ∞<br>переходит в MLE                                                                                                                                                                                                    |"
   ]
  },
  {
   "cell_type": "markdown",
   "id": "cac334d0",
   "metadata": {},
   "source": [
    "Рекомендую посмотреть лекции(по желанию):\n",
    "* Лекция от Дмитрия Ветрова ([ссылка](https://youtu.be/Ejsr3S79gcQ?si=xRYtdR4coVRfauk3&t=1020))\n",
    "* Лекция от Филиппа Ульянкина ([ссылка](https://youtu.be/3ejA7UYy6Jk?si=Wni6LVZhytf13UvJ))\n",
    "\n",
    "`Математическая статистика` и ее\n",
    "* `Частотный`  и\n",
    "* `Байесовский`\n",
    "подходы очень интересны, но это большие темы, которые даже обзорно затруднительно полностью рассмотреть в рамках одной лекции.\n",
    "\n",
    "Мы остановимся только на\n",
    "* Методе Максимального Правдоподобия (Maximum likelihood estimation, сокр. `MLE`)\n",
    "\n",
    "Более подробно про `Математическую статистику` можно узнать из `великолепных бесплатных курсов`:\n",
    "* Дмитрий Ветров \"Байесовские методы в машинном обучении\" ([ссылка YouTube](https://youtube.com/playlist?list=PLEqoHzpnmTfCiJpMPccTWXD9DB4ERQkyw), [описание курса](http://www.machinelearning.ru/wiki/index.php?title=Бммо)).\n",
    "* Ульянкин Филипп и Демешев Борис \"Прикладная статистика\" ([ссылка YouTube](https://www.youtube.com/@Прикладнаястатистика/playlists), [ссылка github-репо курса](https://github.com/FUlyankin/matstat-AB))\n",
    "\n",
    "Это доп. материал для интересующихся, для прохождения нашего курса в обязательном порядке он не требуется.                                                   "
   ]
  },
  {
   "cell_type": "markdown",
   "id": "8a9dd6c1",
   "metadata": {},
   "source": [
    "# Метод максимального правдоподобия (Частотный подход)\n",
    "\n",
    "Использование данного метода имеет некоторые отличительные особенности при работе\n",
    "* с непрерывной случайной величиной\n",
    "* с дискретной случайной величиной\n",
    "\n",
    "рассмотрим оба случая. "
   ]
  },
  {
   "cell_type": "markdown",
   "id": "cd045db0",
   "metadata": {},
   "source": [
    "## Непрерывная случайная величина"
   ]
  },
  {
   "cell_type": "markdown",
   "id": "14382a8b",
   "metadata": {},
   "source": [
    "### Математическая статистика Частотный подход\n",
    "\n",
    "`Математическая статистика` работает с обратной для `теории вероятностей` ситуацией.\n",
    "\n",
    "* у нас есть экспериментальная выборка данных $\\left\\lbrace x_1, x_2, x_3, ..., x_n\\right\\rbrace$:\n",
    "\n",
    "```\n",
    "[-0.26947439, 0.74256004, -0.46341769, -0.56572975, 0.24196227, -1.91328024, -1.52491783, 0.56228753]\n",
    "```\n",
    "* мы ничего не знаем о модели статистического распределения, которая генерирует экспериментальную выборку значений случайной величины $x$.\n",
    "* мы предполагаем `i.i.d. - Independent and Identically Distributed` (`Независимы и одинаково распределены`)\n",
    "\n",
    "т.е. что существует некоторая модель статистического распределения\n",
    "\n",
    "$P_{data}(\\theta=\\theta' \\mid x)=?$\n",
    "\n",
    "с зафиксированными значениями параметров $\\theta=\\theta'$ согласно которому сгенерированы наши данные.\n",
    "\n",
    "* Нужно выбрать модель для статистического распределения.\n",
    "\n",
    "Которая из соображений `математической статистики`, подходит под наши данные."
   ]
  },
  {
   "cell_type": "markdown",
   "id": "94ff98f2",
   "metadata": {},
   "source": [
    "* Мы решили выбрать, модель нормального Распределением $Norm(\\mu, \\sigma)$.\n",
    "* Мы ничего не знаем о его параметрах $\\theta=\\left\\lbrace\\mu=?,\\sigma=?\\right\\rbrace$\n",
    "* Мы можем `подобрать` параметры $\\theta=\\left\\lbrace\\mu, \\sigma\\right\\rbrace$, которые лучше всего описывают `имеющиеся на данный момент времени данные`.\n",
    "\n"
   ]
  },
  {
   "cell_type": "markdown",
   "id": "95f1332a",
   "metadata": {},
   "source": [
    "### Подбор наиболее правдоподобных параметров для распределения\n",
    "\n",
    "#### Опытно-экспериментальный подход\n",
    "\n",
    "**Проблема**:\n",
    "\n",
    "Два специалиста по мат. статистике предлагают 2 набора параметров для норм. распределения, описывающего наши данные:\n",
    "1. $\\theta_1=\\left\\lbrace\\mu_1=0.5,\\sigma_1=1.3\\right\\rbrace$\n",
    "2. $\\theta_2=\\left\\lbrace\\mu_2=-0.1,\\sigma_2=0.8\\right\\rbrace$\n",
    "\n",
    "Как узнать какой из наборов описывает процесс генерации наших данные лучше?"
   ]
  },
  {
   "cell_type": "code",
   "execution_count": 11,
   "id": "ef5a882c",
   "metadata": {},
   "outputs": [
    {
     "data": {
      "image/png": "[encoded data removed]",
      "text/plain": [
       "<Figure size 1000x600 with 1 Axes>"
      ]
     },
     "metadata": {},
     "output_type": "display_data"
    }
   ],
   "source": [
    "# экспериментальная выборка\n",
    "x = [\n",
    "    -0.26947439,\n",
    "    0.74256004,\n",
    "    -0.46341769,\n",
    "    -0.56572975,\n",
    "    0.24196227,\n",
    "    -1.91328024,\n",
    "    -1.52491783,\n",
    "    0.56228753,\n",
    "]\n",
    "\n",
    "# параметры для нормального распределения предложенные\n",
    "theta_1 = {\"mu\": 0.5, \"sigma\": 1.3}  # специалистом 1\n",
    "theta_2 = {\"mu\": -0.1, \"sigma\": 0.8}  # специалистом 2\n",
    "\n",
    "# создаем нормальные распределения с указанными параметрами\n",
    "norm_distr_1 = stats.norm(loc=theta_1[\"mu\"], scale=theta_1[\"sigma\"])\n",
    "norm_distr_2 = stats.norm(loc=theta_2[\"mu\"], scale=theta_2[\"sigma\"])\n",
    "\n",
    "# Генерация значений для оси X\n",
    "x_values = np.linspace(-4, 4, 100)\n",
    "norm_1_y = norm_distr_1.pdf(x_values)\n",
    "norm_2_y = norm_distr_2.pdf(x_values)\n",
    "\n",
    "# Построение графика функции плотности распределения\n",
    "fig, ax = plt.subplots(figsize=(10, 6))\n",
    "ax.plot(\n",
    "    x_values,\n",
    "    norm_1_y,\n",
    "    \"b-\",\n",
    "    lw=2,\n",
    "    label=f\"$Norm(\\mu={theta_1['mu']}, \\sigma={theta_1['sigma']})$\",\n",
    ")\n",
    "ax.plot(\n",
    "    x_values,\n",
    "    norm_2_y,\n",
    "    \"g-\",\n",
    "    lw=2,\n",
    "    label=f\"$Norm(\\mu={theta_2['mu']}, \\sigma={theta_2['sigma']})$\",\n",
    ")\n",
    "\n",
    "# Отметка точек на оси X\n",
    "for i, xi in enumerate(x):\n",
    "    ax.axvline(xi, color=\"red\", linestyle=\"--\", linewidth=1, label=f\"Точка {i+1}\")\n",
    "\n",
    "    # Добавляем текстовую метку\n",
    "    ax.text(\n",
    "        xi,\n",
    "        max(y),\n",
    "        f\"Tочка {i+1}\",\n",
    "        verticalalignment=\"bottom\",\n",
    "        horizontalalignment=\"center\",\n",
    "        rotation=90,\n",
    "        fontsize=8,\n",
    "    )\n",
    "\n",
    "# Отображение графика\n",
    "plt.legend()\n",
    "plt.title(\"График функции плотности распределения\")\n",
    "plt.xlabel(\"$x$\")\n",
    "plt.ylabel(\"$f(x)$\")\n",
    "plt.grid(True)\n",
    "plt.show()"
   ]
  },
  {
   "cell_type": "markdown",
   "id": "93159522",
   "metadata": {},
   "source": [
    "#### Правдоподобие (Likelihood)\n",
    "\n",
    "> `Функция правдоподобия (Likelihood function)` это функция для оценки вероятности сгенерировать конкретное значение $x_i$ из нашей выборки выбранным распределением с такими то параметрами $\\theta'$.\n",
    "\n",
    "$L(\\theta')=f(\\theta' \\mid x_i)$\n",
    "\n",
    "* Ее часто называемая просто `Правдоподобие(Likelihood)`."
   ]
  },
  {
   "cell_type": "code",
   "execution_count": 27,
   "id": "1c2f4ff3",
   "metadata": {},
   "outputs": [
    {
     "data": {
      "image/png": "[encoded data removed]",
      "text/plain": [
       "<Figure size 1000x600 with 1 Axes>"
      ]
     },
     "metadata": {},
     "output_type": "display_data"
    }
   ],
   "source": [
    "# параметры для нормального распределения предложенные\n",
    "theta_1 = {\"mu\": 0.5, \"sigma\": 1.3}  # специалистом 1\n",
    "\n",
    "# Визуализируем правдоподобие для точки 2\n",
    "x2 = -0.5\n",
    "\n",
    "# Задаем ширину прямоугольника (dx)\n",
    "dx = (x[1] - x[0]) * 50\n",
    "\n",
    "# параметры отображения\n",
    "likelihood_show = True\n",
    "square_show = True\n",
    "distr_square_show = True\n",
    "\n",
    "# создаем нормальное распределение с указанными параметрами\n",
    "norm_distr_1 = stats.norm(loc=theta_1[\"mu\"], scale=theta_1[\"sigma\"])\n",
    "\n",
    "# Генерация значений для оси X\n",
    "x = np.linspace(-4, 4, 400)\n",
    "y = norm_distr_1.pdf(x)\n",
    "\n",
    "# Построение графика функции плотности распределения\n",
    "fig, ax = plt.subplots(figsize=(10, 6))\n",
    "ax.plot(x, y, \"b-\", lw=2, label=r\"$PDF=Norm( \\theta1 \\mid x)$\")\n",
    "\n",
    "# отображаем параметры распределения на легенде\n",
    "ax.plot(\n",
    "    [],\n",
    "    [],\n",
    "    \"b-\",\n",
    "    label=rf\"$\\theta_1 = \\left\\lbrace \\mu={theta_1['mu']}, \\sigma={theta_1['sigma']} \\right\\rbrace$\",\n",
    ")\n",
    "\n",
    "ax.scatter(x2, 0, color=\"red\", label=f\"$x_2={x2}$\")\n",
    "\n",
    "# Отметка точки на оси X\n",
    "ax.axvline(x2, color=\"red\", linestyle=\"--\", linewidth=1)\n",
    "ax.text(\n",
    "    x2,\n",
    "    0,\n",
    "    f\"$x_2$\",\n",
    "    verticalalignment=\"bottom\",\n",
    "    horizontalalignment=\"center\",\n",
    "    rotation=90,\n",
    "    fontsize=14,\n",
    ")\n",
    "\n",
    "# Добавляем метку Правдоподобия\n",
    "if likelihood_show:\n",
    "    y2 = norm_distr_1.pdf(x2)\n",
    "    ax.scatter(\n",
    "        x2,\n",
    "        y2,\n",
    "        color=\"green\",\n",
    "        label=rf\"$L\\left(\\theta_1 \\left|x_2={x2:.2f}\\right.\\right)={y2:.3f}$\",\n",
    "    )\n",
    "    ax.text(\n",
    "        x2,\n",
    "        y2,\n",
    "        r\"$L\\left(\\theta \\left| x=x_2 \\right.\\right)$\",\n",
    "        verticalalignment=\"bottom\",\n",
    "        horizontalalignment=\"left\",\n",
    "        fontsize=14,\n",
    "    )\n",
    "\n",
    "# Вычисление вероятности попадания в интервал от b до a\n",
    "if square_show or distr_square_show:\n",
    "    lower_x, upper_x = x2 - dx / 2, x2 + dx / 2\n",
    "\n",
    "    # отображаем параметры dx на легенде\n",
    "    ax.plot([], [], label=rf\"$dx={dx:.2f}$\")\n",
    "\n",
    "# Рисуем прямоугольник площадью y2 * dx\n",
    "if square_show:\n",
    "    S = (upper_x - lower_x) * (y2 - 0)\n",
    "    ax.fill_between(\n",
    "        [lower_x, upper_x],\n",
    "        0,\n",
    "        y2,\n",
    "        color=\"green\",\n",
    "        label=f\"$S = PDF(x_2) \\cdot dx={S:.4f}$\",\n",
    "        alpha=0.3,\n",
    "    )\n",
    "\n",
    "# Рисуем истинную площадь распределения\n",
    "if distr_square_show:\n",
    "    probability = normal_dist.cdf(upper_x) - normal_dist.cdf(lower_x)\n",
    "    ax.fill_between(\n",
    "        x,\n",
    "        y,\n",
    "        where=(x >= lower_x) & (x <= upper_x),\n",
    "        color=\"blue\",\n",
    "        alpha=0.3,\n",
    "        label=f\"$P(x\\in[{lower_x:.2f}, {upper_x:.2f}]) = {probability:.4f}$\",\n",
    "    )\n",
    "\n",
    "# Отображение графика\n",
    "plt.legend()\n",
    "plt.title(\"График функции плотности распределения\")\n",
    "plt.xlabel(\"$x$\")\n",
    "plt.ylabel(\"$f(x)$\")\n",
    "plt.grid(True)\n",
    "plt.show()"
   ]
  },
  {
   "cell_type": "markdown",
   "id": "51eef439",
   "metadata": {},
   "source": [
    "Демо:\n",
    "```\n",
    "likelihood_show = False\n",
    "square_show = False\n",
    "distr_square_show = False\n",
    "```\n",
    "\n",
    "* Видим нормальное распределение, с параметрами $Norm(\\theta_1 \\mid x)$ от специалиста 1.\n",
    "* Параметры: $\\theta_1=\\left\\lbrace\\mu_1=0.5,\\sigma_1=1.3\\right\\rbrace$\n",
    "* Хотим оценить вероятность появления(генерации) значения $x_2$ в этом распределении.\n",
    "* Но для непрерывной величины вероятность получить конкретное значение \n",
    "\n",
    "$P(\\theta_1 \\mid x=x_2)= P(\\theta_1 \\mid x \\in [x_2, x_2])=0$\n",
    "\n",
    "* Как быть?\n",
    "\n"
   ]
  },
  {
   "cell_type": "markdown",
   "id": "ce56d82f",
   "metadata": {},
   "source": [
    "```\n",
    "likelihood_show = False\n",
    "square_show = False\n",
    "distr_square_show = True\n",
    "```\n",
    "* Возьмем некоторую окрестность `dx/2` вокруг нашей точки `x2`\n",
    "* Можем вычислить вероятность попадания в интервал $P(\\theta_1 \\mid x \\in [x_2 - \\frac{dx}{2}, x_2 + \\frac{dx}{2}])$"
   ]
  },
  {
   "cell_type": "markdown",
   "id": "aa2d643f",
   "metadata": {},
   "source": [
    "```\n",
    "likelihood_show = False\n",
    "square_show = True\n",
    "distr_square_show = False\n",
    "```\n",
    "* Если мы умножим $S = PDF(x_2) \\cdot dx$"
   ]
  },
  {
   "cell_type": "markdown",
   "id": "fa1d5ebf",
   "metadata": {},
   "source": [
    "```\n",
    "likelihood_show = False\n",
    "square_show = True\n",
    "distr_square_show = True\n",
    "```\n",
    "\n",
    "* Видим, что $S = PDF(x_2) \\cdot dx \\sim P(\\theta_1 \\mid x \\in [x_2 - \\frac{dx}{2}, x_2 + \\frac{dx}{2}])$\n",
    "* При уменьшении $dx \\to 0$\n",
    "\n",
    "$S = PDF(x_2) \\cdot dx - P(\\theta_1 \\mid x \\in [x_2 - \\frac{dx}{2}, x_2 + \\frac{dx}{2}]) \\to 0$\n",
    "\n",
    "* Можно сказать, что $PDF(x_2) \\cdot dx \\sim P(\\theta_1 \\mid x \\in [x_2 - \\frac{dx}{2}, x_2 + \\frac{dx}{2}])$\n",
    "* $PDF(x_2) = \\frac{1}{dx} \\cdot P(\\theta_1 \\mid x \\in [x_2 - \\frac{dx}{2}, x_2 + \\frac{dx}{2}])$\n",
    "* $dx=const$ - мы берем его одинаковым для всех точек выборки\n",
    "* $PDF(x_2) \\sim P(\\theta_1 \\mid x \\in [x_2 - \\frac{dx}{2}, x_2 + \\frac{dx}{2}])$"
   ]
  },
  {
   "cell_type": "markdown",
   "id": "dfd33a87",
   "metadata": {},
   "source": [
    "Для непрерывных случайных величин `Правдоподобие` (`Likelihood`) задается как\n",
    "\n",
    "$L(\\theta)=PDF(\\theta \\mid x)$\n",
    "\n",
    "```\n",
    "likelihood_show = True\n",
    "square_show = False\n",
    "distr_square_show = False\n",
    "```\n",
    "\n",
    "* Смотрим несколько значений для $L(\\theta)=PDF(\\theta \\mid x)$\n",
    "* Как вы думаете может ли $L(\\theta) > 1$ ?"
   ]
  },
  {
   "cell_type": "markdown",
   "id": "cc1fc7dd",
   "metadata": {},
   "source": [
    "**Особенность:**\n",
    "\n",
    "* Значение `Правдоподобия(Likelihood)` меняется с изменением имеющегося набора данных в экспериментальной выборке.\n",
    "\n",
    "Получили новые данные, можно производить переоценку параметров распределения $\\theta$."
   ]
  },
  {
   "cell_type": "markdown",
   "id": "b5d27697",
   "metadata": {},
   "source": [
    "#### Вероятность(Probability) Vs Правдоподобие(Likelihood)\n",
    "\n",
    "Отметим важное отличие между `Вероятностью(Probability)` и `Правдоподобием(Likelihood)` для непрерывной случайной величины.\n",
    "\n",
    "**Теория вероятности и Вероятность:**\n",
    "* Известен фундаментальный закон генерации данных (тип распределения и его параметры $\\theta$). Все данные подчиняются ему. \n",
    "* Все значения генерируемые моделью подчиняется этому фундаментальному закону.\n",
    "* Вероятность $P(x\\in[a, b])$ оценивается для интервала значений $[a, b]$.\n",
    "* Вероятность получить конкретное значение $x=a$, всегда равна $0$.\n",
    "* Значение вероятности всегда $P \\in [0, 1])$\n",
    "* Вероятность не зависит от экспериментальных данных, ведь данные всегда удовлетворяют фундаментальному закону.\n",
    "\n",
    "**Мат. статистика и правдоподобие:**\n",
    "* Не известен фундаментальный закон генерации данных.\n",
    "* Мы сами выбираем тип распределения, которым попытаемся описать механизм генерации имеющихся на данный момент времени данных из экспериментальной выборки.\n",
    "* Мы сами выбираем параметры $\\theta$ для  выбранного распределения.\n",
    "* Правдоподобие оценивает вероятность генерации экспериментального значения согласно выбранному распределению и выбранным для него параметрам: \n",
    "  $\\mathcal{L}(\\theta\\mid x=a)=f_{\\theta}(x=a)$. При этом значение правдоподобия опр. через значение `функции плотности распределения (PDF)`.\n",
    "* Правдоподобие определено для конкретного значения $x=a$, не равно $0$ в общем случае.\n",
    "* Значение `правдоподобия`  $\\mathcal{L}(\\theta\\mid x=a)$ как значение `функции плотности распределения (PDF)` в точке $f_{\\theta}(x=a)$ при опр. выборе закона распределения и параметров для него может превышать значение 1-цы:\n",
    "$$\\mathcal{L}(\\theta\\mid x=a)=f_{\\theta}(x=a) > 1$$\n",
    "\n",
    "* Правдоподобие зависит от экспериментальных данных, и меняется при получении новых.\n",
    "\n"
   ]
  },
  {
   "cell_type": "markdown",
   "id": "06d56df6",
   "metadata": {},
   "source": [
    "#### Выбираем лучшие параметры из 2х предложенных наборов $\\theta$\n",
    "\n",
    "Два специалиста по мат. статистике предлагают 2 набора параметров для норм. распределения, описывающего наши данные:\n",
    "1. $\\theta_1=\\left\\lbrace\\mu_1=0.5,\\sigma_1=1.3\\right\\rbrace$\n",
    "2. $\\theta_2=\\left\\lbrace\\mu_2=-0.1,\\sigma_2=0.8\\right\\rbrace$\n",
    "\n",
    "Как узнать какой из наборов описывает процесс генерации наших данные лучше?"
   ]
  },
  {
   "cell_type": "markdown",
   "id": "bc529917",
   "metadata": {},
   "source": [
    "> `Правдоподобие для выборки` оценивает вероятность получить экспериментальные данные $\\left\\lbrace x_1,x_2,x_3,x_4,...,x_n \\right\\rbrace$ с помощью выбранного нами типа распределения с фиксированными значениями параметров $\\theta$ для этого распределения:\n",
    "\n",
    "$$\\mathcal{L}(\\theta\\mid x_1,x_2,x_3,x_4,...,x_n)=f_{\\theta}(x_1,x_2,x_3,x_4,...,x_n)$$\n",
    "\n",
    "где для непрерывной случайной величины $f_{\\theta}(x)$ это `функция плотности вероятности`.\n",
    "\n",
    "Мы предполагаем, что экспериментальные данные `i.i.d. - Independent and Identically Distributed` (`Независимы и одинаково распределены`).\n",
    "\n",
    "Учитывая, что каждое значение из наших данных это отдельное наблюдение, которое никак не зависит от предыдущих, можно рассмотреть все как произведение вероятностей независимых событий:\n",
    "\n",
    "$$\\mathcal{L}(\\theta\\mid x_1,x_2,x_3,x_4,...,x_n) = f_{\\theta}(x_1,x_2,x_3,x_4,...,x_n) = f_{\\theta}(x_1) \\cdot f_{\\theta}(x_2) \\cdot f_{\\theta}(x_1) \\cdot ... \\cdot f_{\\theta}(x_n) = \\underset{i=1}{\\overset{n}{\\prod}}f_{\\theta}(x_i) $$\n",
    "\n",
    "$$\\mathcal{L}(\\theta\\mid x_1,x_2,x_3,x_4,...,x_n) = \\underset{i=1}{\\overset{n}{\\prod}}f_{\\theta}(x_i) $$\n",
    "\n",
    "Чем выше значение `Правдоподобия для выборки` полученное для выбранного типа распределения и набора его параметров $\\theta_i$ на наших экспериментальных данных $\\left\\lbrace x_1,x_2,x_3,x_4,...,x_n \\right\\rbrace$, тем вероятнее, что данные получены именно такой моделью.\n",
    "\n",
    "Если \n",
    "\n",
    "$$\\mathcal{L}(\\theta_1\\mid x_1,x_2,x_3,x_4,...,x_n) > \\mathcal{L}(\\theta_2\\mid x_1,x_2,x_3,x_4,...,x_n)$$\n",
    "\n",
    "то говорят, что закон генерации $Norm(\\theta_1)$, `более правдоподобен`, чем $Norm(\\theta_2)$."
   ]
  },
  {
   "cell_type": "code",
   "execution_count": 13,
   "id": "ccb03464",
   "metadata": {},
   "outputs": [
    {
     "name": "stdout",
     "output_type": "stream",
     "text": [
      "Правдоподобие, что выборка получена из распределения с параметрами от специалиста 1 1.8310037280875249e-06\n",
      "Правдоподобие, что выборка получена из распределения с параметрами от специалиста 2 1.661729407315026e-05\n",
      "L1_for_samples < L2_for_samples ?\n",
      "True\n"
     ]
    },
    {
     "data": {
      "image/png": "[encoded data removed]",
      "text/plain": [
       "<Figure size 1000x600 with 1 Axes>"
      ]
     },
     "metadata": {},
     "output_type": "display_data"
    }
   ],
   "source": [
    "# экспериментальная выборка\n",
    "x = [\n",
    "    -0.26947439,\n",
    "    0.74256004,\n",
    "    -0.46341769,\n",
    "    -0.56572975,\n",
    "    0.24196227,\n",
    "    -1.91328024,\n",
    "    -1.52491783,\n",
    "    0.56228753,\n",
    "]\n",
    "\n",
    "# параметры для нормального распределения предложенные\n",
    "theta_1 = {\"mu\": 0.5, \"sigma\": 1.3}  # специалистом 1\n",
    "theta_2 = {\"mu\": -0.1, \"sigma\": 0.8}  # специалистом 2\n",
    "\n",
    "# создаем нормальные распределения с указанными параметрами\n",
    "norm_distr_1 = stats.norm(loc=theta_1[\"mu\"], scale=theta_1[\"sigma\"])\n",
    "norm_distr_2 = stats.norm(loc=theta_2[\"mu\"], scale=theta_2[\"sigma\"])\n",
    "\n",
    "# Генерация значений для оси X\n",
    "x_values = np.linspace(-4, 4, 100)\n",
    "norm_1_y = norm_distr_1.pdf(x_values)\n",
    "norm_2_y = norm_distr_2.pdf(x_values)\n",
    "\n",
    "# Построение графика функции плотности распределения\n",
    "fig, ax = plt.subplots(figsize=(10, 6))\n",
    "ax.plot(x_values, norm_1_y, \"b-\", lw=2, label=r\"$Norm( \\theta1 \\mid x)$\")\n",
    "# отображаем параметры распределения на легенде\n",
    "ax.plot(\n",
    "    [],\n",
    "    [],\n",
    "    \"b-\",\n",
    "    label=rf\"$\\theta_1 = \\left\\lbrace \\mu={theta_1['mu']}, \\sigma={theta_1['sigma']} \\right\\rbrace$\",\n",
    ")\n",
    "ax.plot(x_values, norm_2_y, \"g-\", lw=2, label=r\"$Norm( \\theta2 \\mid x)$\")\n",
    "# отображаем параметры распределения на легенде\n",
    "ax.plot(\n",
    "    [],\n",
    "    [],\n",
    "    \"g-\",\n",
    "    label=rf\"$\\theta_2 = \\left\\lbrace \\mu={theta_2['mu']}, \\sigma={theta_2['sigma']} \\right\\rbrace$\",\n",
    ")\n",
    "\n",
    "# Отметка точек на оси X\n",
    "for i, xi in enumerate(x):\n",
    "    ax.axvline(xi, color=\"red\", linestyle=\"--\", linewidth=1)\n",
    "    ax.text(\n",
    "        xi,\n",
    "        0,\n",
    "        rf\"$x_{i}$\",\n",
    "        verticalalignment=\"bottom\",\n",
    "        horizontalalignment=\"center\",\n",
    "        rotation=90,\n",
    "        fontsize=14,\n",
    "    )\n",
    "\n",
    "# Правдоподобия для нормального распределения от специалиста 1\n",
    "L1 = norm_distr_1.pdf(x)\n",
    "ax.scatter(x, L1, c=\"b\", label=r\"$L(\\theta_1 \\mid x)$\")\n",
    "\n",
    "# Правдоподобия для нормального распределения от специалиста 2\n",
    "L2 = norm_distr_2.pdf(x)\n",
    "ax.scatter(x, L2, c=\"g\", label=r\"$L(\\theta_1 \\mid x)$\")\n",
    "\n",
    "# Считаем Правдоподобия для выборок\n",
    "L1_for_samples = np.prod(L1)\n",
    "# отображаем Правдоподобия для выборки на легенде\n",
    "ax.plot(\n",
    "    [],\n",
    "    [],\n",
    "    \"b-\",\n",
    "    label=r\"$\\underset{i=1}{\\overset{n}{\\prod}}L(\\theta_1 \\mid x_i)=$\" + f\"{L1_for_samples:.2e}\",\n",
    ")\n",
    "L2_for_samples = np.prod(L2)\n",
    "# отображаем Правдоподобия для выборки на легенде\n",
    "ax.plot(\n",
    "    [],\n",
    "    [],\n",
    "    \"b-\",\n",
    "    label=r\"$\\underset{i=1}{\\overset{n}{\\prod}}L(\\theta_2 \\mid x_i)=$\" + f\"{L2_for_samples:.2e}\",\n",
    ")\n",
    "\n",
    "print(\n",
    "    f\"Правдоподобие, что выборка получена из распределения с параметрами от специалиста 1 {L1_for_samples}\"\n",
    ")\n",
    "print(\n",
    "    f\"Правдоподобие, что выборка получена из распределения с параметрами от специалиста 2 {L2_for_samples}\"\n",
    ")\n",
    "print(\"L1_for_samples < L2_for_samples ?\")\n",
    "print(L1_for_samples < L2_for_samples)\n",
    "\n",
    "# Отображение графика\n",
    "plt.legend()\n",
    "plt.title(\"График функции плотности распределения\")\n",
    "plt.xlabel(\"$x$\")\n",
    "plt.ylabel(\"$f(x)$\")\n",
    "plt.grid(True)\n",
    "plt.show()"
   ]
  },
  {
   "cell_type": "markdown",
   "id": "f6816fda",
   "metadata": {},
   "source": [
    "Видим, что $Norm(\\theta_2 \\mid x)$ от специалиста 2, выглядит `более правдоподобным`, для описания закона по которым генерируются наши экспериментальные данные =)"
   ]
  },
  {
   "cell_type": "markdown",
   "id": "78ab5124",
   "metadata": {},
   "source": [
    "#### Метод Оценки максимального правдоподобия (Maximum likelihood estimation [сокр. MLE]\n",
    "\n",
    "**Проблема:**\n",
    "Поскольку параметры распределения могут принимать бесконечное число различных значений, у нас будет бесконечное множество вариантов различных параметров, и соответствующих им распределений.\n",
    "\n",
    "`А можно ли как то сразу найти самые лучшие параметры для выбранного типа распределения, которое лучше всего подойдут в качестве модели-генератора наших данных?`\n",
    "\n",
    "> `Оценка максимального правдоподобия (Maximum likelihood estimation [MLE])` состоит в подборе такого набора параметров $\\widehat{\\theta}^{MLE}$ для выбранного распределения при котором `Правдоподобие для выборки` на наших данных достигнет максимума.\n",
    "\n",
    "$$ {\\widehat{\\theta}}^{M L E}=\\underset{\\theta}{\\mathrm{argmax}}\\,\\mathrm{L}(\\theta\\mid x_{1},\\ldots,x_{n})=\\underset{\\theta}{\\mathrm{argmax}}\\,\\underset{i=1}{\\overset{n}{\\prod}}f_{\\theta}(x_i)$$\n",
    "\n",
    "Метод `Метод максимального правдоподобия` позволяет работать с различными распределениями как `для непрерывных` так, и `для дискретных` случайных величин."
   ]
  },
  {
   "cell_type": "markdown",
   "id": "60e48567",
   "metadata": {},
   "source": [
    "Нам нужно максимизировать выражение правдоподобия для выборки.\n",
    "\n",
    "Для этого нам нужно найти его экстремум, доказав, что это максимум.\n",
    "\n",
    "Полный список шагов:\n",
    "1. Найти производные функции по всем параметрам модели.\n",
    "2. Приравнять их к нулю и решить уравнения по параметрам ${\\widehat{\\theta}}^{M L E}$.\n",
    "\n",
    "Так мы найдем параметры соответствующие особым точкам, но надо бы еще убедится, что это максимум.\n",
    "\n",
    "3. Берем вторые производные и если они меньше нуля при подстановке наших параметров {\\widehat{\\theta}}^{M L E}, то мы нашли максимум.\n",
    "\n",
    "На практике доказывается, что наша функция будет унимодальна - есть только 1 максимум.\n",
    "\n",
    "И выполняют только шаги 1 и 2.\n",
    "\n",
    "Попробуем найти производную по всем параметрам модели:\n",
    "\n",
    "$$ {\\widehat{\\theta}}^{M L E}=\\underset{\\theta}{\\mathrm{argmax}}\\,\\mathrm{L}(\\theta\\mid x_{1},\\ldots,x_{n})=\\underset{\\theta}{\\mathrm{argmax}}\\,\\underset{i=1}{\\overset{n}{\\prod}}f_{\\theta}(x_i)$$\n",
    "\n",
    "Производная произведения:\n",
    "\n",
    "* для двух функций: $\\left(f g\\right)^{\\prime}=f^{\\prime}g+f g^{\\prime}$\n",
    "* для 3 функций: $(u\\cdot v\\cdot w)^{\\prime}=u^{\\prime}\\cdot v\\cdot w+u\\cdot v^{\\prime}\\cdot w+u\\cdot\n",
    "v\\cdot w^{\\prime}$\n",
    "\n",
    "Метод MLE применяется при $n >> d$:\n",
    "* $d$ - количество параметров которые мы хотим оценить.\n",
    "* $n$ - размер выборки (датасета)\n",
    "\n",
    "Для оценки 10 параметров, нужен размер выборки на 1000 объектов минимум.\n",
    "\n",
    "Произведение 1000 функций, и от этого производную =)\n",
    "\n",
    "А в датасетах бывает и 10^6 образцов и как нам считать такие производные?"
   ]
  },
  {
   "cell_type": "markdown",
   "metadata": {},
   "source": [
    "##### Логарифм правдоподобия и его преимущества\n",
    "\n",
    "`Логарифм правдоподобия` это $Log(L(\\theta) \\mid x)$\n",
    "\n",
    "1. **Инвариантность к монотонным преобразованиям:**\n",
    "\n",
    "Логарифм — монотонная функция, поэтому максимум логарифма правдоподобия соответствует максимуму самой функции правдоподобия. \n",
    "\n",
    "Это означает, что оптимизация логарифма правдоподобия даст те же оценки параметров, что и оптимизация исходной функции правдоподобия.\n",
    "\n",
    "2. **Логарифм меняет произведение на сумму**\n",
    "\n",
    "Брать набор производных от суммы функций гораздо проще чем от произведения функций:\n",
    "\n",
    "Производная суммы:\n",
    "\n",
    "* для 2 функций: $(f+g)^{\\prime}=f^{\\prime}+g^{\\prime}$\n",
    "* для 3 функций: $(f+g+w)^{\\prime}=f^{\\prime}+g^{\\prime}+w^{\\prime}$\n",
    "* для n функций: $\\left({\\sum}_{i=1}^nf_i(x)\\right)^{\\prime}={\\sum}_{i=1}^nf_i(x)^{\\prime}$"
   ]
  },
  {
   "cell_type": "markdown",
   "id": "d68a10f4",
   "metadata": {},
   "source": [
    "\n",
    "При использовании `логарифма правдоподобия`, выражение задачи для $\\widehat{\\theta}^{MLE}$ преобразуется в вид:\n",
    "\n",
    "$$\\log L\\left(\\theta\\right)=\\log\\left(\\prod_{i=1}^nf(\\theta \\mid x_i)\\right)=\\sum_{i=1}^n\\log(f(\\theta \\mid x_i))$$\n",
    "\n",
    "Задача оптимизации по максимизации логарифма правдоподобия через параметр $\\theta$ сведется к поиску экстремума:\n",
    "\n",
    "$${\\frac{\\partial log_{}{L}}{\\partial\\,\\theta}}=\\sum_{i=1}^n{\\frac{\\partial log_{}f(x_{i}\\mid\\theta)}{\\partial\\,\\theta}}=0$$\n",
    "\n",
    "Решив это уравнение получим оптимальный набор параметров распределения ${\\widehat{\\theta}}^{MLE}$ для выбранного нами распределения.\n",
    "\n",
    "Это распределение будет наиболее правдоподобным в качестве генератора имеющейся у нас выборки $\\left\\lbrace x_1,x_2,x_3,x_4,...,x_n \\right\\rbrace$.\n",
    "\n",
    "Решение этого уравнения будет различным для различных распределений описывающих нашу случаиную величину."
   ]
  },
  {
   "cell_type": "markdown",
   "id": "fb23b59a",
   "metadata": {},
   "source": [
    "3. Обеспечивает точность вычислений\n",
    "\n",
    "Предположим, что нам удается дать ЭВМ задачу на вычисление дифференцирования произведения функций.\n",
    "\n",
    "Сможем ли мы ее посчитать?"
   ]
  },
  {
   "cell_type": "code",
   "execution_count": 14,
   "id": "3c2f4f59",
   "metadata": {},
   "outputs": [
    {
     "data": {
      "text/plain": [
       "sys.float_info(max=1.7976931348623157e+308, max_exp=1024, max_10_exp=308, min=2.2250738585072014e-308, min_exp=-1021, min_10_exp=-307, dig=15, mant_dig=53, epsilon=2.220446049250313e-16, radix=2, rounds=1)"
      ]
     },
     "execution_count": 14,
     "metadata": {},
     "output_type": "execute_result"
    }
   ],
   "source": [
    "# посмотрим точность для типа float в python\n",
    "import sys\n",
    "\n",
    "sys.float_info"
   ]
  },
  {
   "cell_type": "markdown",
   "id": "339e0a11",
   "metadata": {},
   "source": [
    "Наименьшее значение - sys.float_info.min (2.2250788585072014e-308)\n",
    "\n",
    "Наибольшее значение - sys.float_info.max (1.7976931348623157e+308)\n",
    "\n",
    "Подробности в документации [ссылка](https://translated.turbopages.org/proxy_u/en-ru.ru.0aad166c-66e14549-6e642a45-74722d776562/docs.python.org/library/sys.html#sys.float_info).\n",
    "\n",
    "При достаточно большом количестве перемножений плотностей вероятности мы можем выйти за данный предел точности.\n",
    "\n",
    "Предположительно это может случится при расчете вероятности появления картинки персонажа с опр. стилем. Там около 500 пикселей, на каждый из RGB-каналов изображения, итого 1500."
   ]
  },
  {
   "cell_type": "code",
   "execution_count": 15,
   "id": "acc5011d",
   "metadata": {},
   "outputs": [
    {
     "name": "stdout",
     "output_type": "stream",
     "text": [
      "1e-308\n",
      "0.0\n",
      "0.0\n"
     ]
    }
   ],
   "source": [
    "print(10**(-308)) # все еще маленькое значение\n",
    "print(10**(-350)) # наше маленькое значение превратилось в 0\n",
    "\n",
    "# ситуация, которой мы опасаемся перемножение большого числа маленьких\n",
    "# плотностей вероятностей превращается в ноль из за ограничений точности\n",
    "p = 10**(-308)\n",
    "print(p * p * p) "
   ]
  },
  {
   "cell_type": "markdown",
   "id": "01b72e7e",
   "metadata": {},
   "source": [
    "Использование логарифмов существенно повышает точность вычислений:"
   ]
  },
  {
   "cell_type": "code",
   "execution_count": 16,
   "id": "3c83fca1",
   "metadata": {},
   "outputs": [
    {
     "name": "stdout",
     "output_type": "stream",
     "text": [
      "-308.0\n",
      "-29218112.0\n"
     ]
    }
   ],
   "source": [
    "# маленькая вероятность превратилась в небольшое число\n",
    "print(np.log10(p))\n",
    "\n",
    "# использование логарифма\n",
    "p = np.log10(p)\n",
    "print(p * p * p) "
   ]
  },
  {
   "cell_type": "markdown",
   "id": "d780ddb0",
   "metadata": {},
   "source": [
    "Точность вычислений повысилась до $10^{-29218112}$ при ограничении на $10^{-308}$ для float в Python.\n",
    "\n",
    "Можно использовать логарифм любого основания, но мне нравится, что $log_{10}$ интуитивно позволяет сразу представить себе порядок величины.\n",
    "\n",
    "$$log_{10}(x)=2, x=100$$\n",
    "$$log_{10}(x)=3, x=1000$$\n",
    "$$log_{10}(x)=2.5, x \\in [100,1000]$$\n",
    "\n",
    "основание 10 удобно =)"
   ]
  },
  {
   "cell_type": "markdown",
   "id": "a3b6b25d",
   "metadata": {},
   "source": [
    "#### MLE для нормального распределения\n",
    "\n",
    "Применяем метод `MLE` к нормальному распределению.\n",
    "\n",
    "1. Берем формулу для нормального распределения:\n",
    "$$f(x)={\\frac{1}{\\sqrt{2\\;\\pi\\sigma^{2}}}}\\cdot e^{-\\;{\\frac{(x-\\mu)^{2}}{2\\sigma^{2}}}}$$\n",
    "\n",
    "2. Функция правдоподобия для выборки:\n",
    "\n",
    "Для нашей выборки $X=\\{x_{1},x_{2},\\ldots,x_{n}\\}$ функция правдоподобия для выборки $L(\\mu,\\sigma^{2} \\mid X)$ запишется как \n",
    "$$L(\\mu,\\sigma^{2} \\mid X)=\\prod_{i=1}^{n}f(\\mu,\\sigma^{2} \\mid x_{i})$$\n",
    "\n",
    "Подставляя формулу плотности, получаем:\n",
    "\n",
    "$$L(\\mu,\\sigma^{2} \\mid X)=\\prod_{i=1}^{n}{\\frac{1}{\\sqrt{2\\pi\\sigma^{2}}}}\\exp\\left(-{\\frac{(x_{i}-\\mu)^{2}}{2\\sigma^{2}}}\\right)$$\n",
    "\n",
    "3. Логарифмическая функция правдоподобия:\n",
    "\n",
    "Чтобы иметь возможность это посчитать используем `Логарифм правдоподобия`:\n",
    "\n",
    "* чтобы избавится от экспоненты, удобно взять `натуральный логарифм` $ln()$.\n",
    "\n",
    "$$\\ln L(\\mu,\\sigma^{2} \\mid X)=\\textstyle\\sum_{i=1}^{n}\\ln f(\\mu,\\sigma^{2} \\mid x_{i})$$\n",
    "\n",
    "Подставляя формулу плотности, получаем:\n",
    "\n",
    "$$\\ln L(\\mu,\\sigma^{2} \\mid X)=-\\frac{n}{2}\\ln(2\\pi\\sigma^{2})-\\sum_{i=1}^{n}\\frac{(x_{i}-\\mu)^{2}}{2\\sigma^{2}}$$"
   ]
  },
  {
   "cell_type": "markdown",
   "id": "c5a93448",
   "metadata": {},
   "source": [
    "4. Максимизация логарифма правдоподобия:\n",
    "\n",
    "Чтобы найти оценки $\\hat{\\mu}$ и $\\hat{\\sigma}^2$, которые максимизируют `логарифм правдоподобия`, нужно взять частные производные по $\\mu$ и $\\sigma^2$ и приравнять их к нулю.\n",
    "\n",
    "- Берем производную по $\\mu$ и приравниваем ее к 0:\n",
    "\n",
    "Исходное выражение:\n",
    "\n",
    "$$\\ln L(\\mu,\\sigma^{2} \\mid X)=-\\frac{n}{2}\\ln(2\\pi\\sigma^{2})-\\sum_{i=1}^{n}\\frac{(x_{i}-\\mu)^{2}}{2\\sigma^{2}}$$\n",
    "\n",
    "Взяли производную и приравняли ее к нулю:\n",
    "\n",
    "$$\\frac{\\partial \\ln L}{\\partial \\mu} = \\sum_{i=1}^{n} \\frac{(x_i - \\mu)}{\\sigma^2} = 0$$\n",
    "\n",
    "* Решением этого уравнения будет уже оптимальное значение для параметра $\\mu$ полученное методом `MLE`.\n",
    "* Обозначим это значение как $\\hat\\mu^{MLE}$\n",
    "\n",
    "Запишем без лишнего:\n",
    "\n",
    "$$\\sum_{i=1}^{n} \\frac{(x_i - \\hat\\mu^{MLE})}{\\sigma^2} = 0$$\n",
    "\n",
    "Умножим на $\\sigma^2$:\n",
    "\n",
    "$$\\sum_{i=1}^n(x_i-\\hat\\mu^{MLE})=0$$\n",
    "\n",
    "$\\hat\\mu^{MLE}=const$ можно вынести за знак суммы умножив на $n$: \n",
    "\n",
    "$$\\sum_{i=1}^{n} x_i - n\\hat\\mu^{MLE} = 0$$\n",
    "\n",
    "Перенесли $n\\hat\\mu^{MLE}$ в право, и поделили на $n$:\n",
    "\n",
    "$$\\hat{\\mu}^{MLE} = \\frac{1}{n} \\sum_{i=1}^{n} x_i = \\bar{x}$$\n",
    "\n",
    "Таким образом, оценка $\\hat{\\mu}^{MLE}$ — это выборочное среднее $\\bar{x}$."
   ]
  },
  {
   "cell_type": "markdown",
   "id": "99f2c2f0",
   "metadata": {},
   "source": [
    "- Берем производную по $\\sigma$ и приравниваем ее к 0:\n",
    "\n",
    "Исходное выражение:\n",
    "\n",
    "$$\\ln L(\\mu,\\sigma^{2} \\mid X)=-\\frac{n}{2}\\ln(2\\pi\\sigma^{2})-\\sum_{i=1}^{n}\\frac{(x_{i}-\\mu)^{2}}{2\\sigma^{2}}$$\n",
    "\n",
    "Взяли производную:\n",
    "\n",
    "$$\\frac{\\partial\\ln L}{\\partial\\sigma^{2}}=-\\frac{n}{2\\sigma^{2}}+\\sum_{i=1}^{n}\\frac{(x_{i}-\\mu)^{i}}{2(\\sigma^{2})^{2}}=0$$\n",
    "\n",
    "* Решением этого уравнения будет уже оптимальное значение для параметра $\\mu$ полученное методом `MLE`.\n",
    "* Обозначим это значение как $\\hat\\sigma^2$\n",
    "\n",
    "Запишем без лишнего:\n",
    "\n",
    "$$-\\frac{n}{2\\hat\\sigma^2} + \\frac{1}{2(\\hat\\sigma^2)^2} \\sum_{i=1}^{n} (x_i - \\mu)^2 = 0$$\n",
    "\n",
    "Умножим обе части уравнения на $2(\\hat\\sigma^2)^2$, чтобы избавиться от дробей:\n",
    "\n",
    "$$-\\frac{n}{2\\hat\\sigma^2} \\cdot {2(\\hat\\sigma^2)^{2}} + \\frac{1}{\\cancel{2(\\hat\\sigma^2)^2}} \\cdot {\\cancel{2(\\hat\\sigma^2)^2}} \\sum_{i=1}^{n} (x_i - \\mu)^2 = 0 \\cdot 2(\\hat\\sigma^2)^2$$\n",
    "\n",
    "Упрощаем:\n",
    "$$-\\frac{n(\\hat\\sigma^2)^2}{\\hat\\sigma^2} + \\sum_{i=1}^{n} (x_i - \\mu)^2 = 0$$\n",
    "\n",
    "Сократим $\\hat\\sigma^2$ в первом члене:\n",
    "$$-n\\hat\\sigma^2 + \\sum_{i=1}^{n} (x_i - \\mu)^2 = 0$$\n",
    "\n",
    "Перенесем $-n\\hat\\sigma^2$ в правую часть уравнения:\n",
    "$$\\sum_{i=1}^{n} (x_i - \\mu)^2 = n\\hat\\sigma^2$$\n",
    "\n",
    "Разделим обе части уравнения на $n$:\n",
    "$$\\frac{1}{n} \\sum_{i=1}^{n} (x_i - \\mu)^2 = \\hat\\sigma^2$$\n",
    "\n",
    "$$\\hat{\\sigma}^2 = \\frac{1}{n} \\sum_{i=1}^{n} (x_i - \\mu)^2$$\n",
    "\n",
    "Извлекаем корень:\n",
    "\n",
    "$$\\hat\\sigma^{MLE}=\\sqrt{\\frac{1}{n}\\underset{i=1}{\\overset{n}{\\sum}}\\left(x_i-\\overline{x}\\right)^2}$$\n",
    "\n",
    "Корень из выборочной дисперсии называется выборочным стандартным отклонением (sample standard deviation). \n",
    "\n",
    "P.S. Подробный вывод показан в видео([ссылка](https://youtu.be/mH8022OsfuI?si=0nRaiaLBtK2FTshu)) у Филлипа Ульянкина."
   ]
  },
  {
   "cell_type": "markdown",
   "id": "1a948358",
   "metadata": {},
   "source": [
    "Итоговые оптимальные параметры по методу MLE для нормального распределения:\n",
    "\n",
    "* оптимальный $\\mu$ это выборочное среднее:\n",
    "\n",
    "$$\\hat\\mu^{MLE}=\\overline{x}={\\frac{1}{n}} \\underset{i=1}{\\overset{n}{\\sum}}x_{i}$$\n",
    "\n",
    "* оптимальный $\\sigma$ это выборочным стандартное отклонением:\n",
    "\n",
    "$$\\hat\\sigma^{MLE}=\\sqrt{\\frac{1}{n}\\underset{i=1}{\\overset{n}{\\sum}}\\left(x_i-\\overline{x}\\right)^2}$$"
   ]
  },
  {
   "cell_type": "markdown",
   "id": "a47a814a",
   "metadata": {},
   "source": [
    "# Работа с несколькими событиями происходящими одновременно"
   ]
  },
  {
   "cell_type": "markdown",
   "id": "1f2bf850",
   "metadata": {},
   "source": [
    "## Условная вероятность\n",
    "\n",
    "Условная вероятность — это вероятность наступления одного события при условии, что другое событие уже произошло. Обозначается как $P(A|B)$, что читается как \"вероятность события $A$ при условии, что событие $B$ уже произошло\".\n",
    "\n",
    "Условная вероятность события $A$ при условии события $B$ определяется по формуле:\n",
    "$$ P(A|B) = \\frac{P(A \\cap B)}{P(B)} $$\n",
    "\n",
    "![image](images/conditional_probability.png)"
   ]
  },
  {
   "cell_type": "markdown",
   "id": "5a4ee5f5",
   "metadata": {},
   "source": [
    "* $A$ — событие выпадения четного числа\n",
    "\n",
    "$\\Omega=\\{2, 4, 6\\}$\n",
    "\n",
    "$P(A) = \\frac{3}{6} = \\frac{1}{2}$\n",
    "\n",
    "* $B$ — событие выпадения числа больше 3\n",
    "\n",
    "$\\Omega= \\{4, 5, 6\\}$\n",
    "\n",
    "$P(B) = \\frac{3}{6} = \\frac{1}{2}$\n",
    "\n",
    "Найдем совместную вероятность событий A и B.\n",
    "$P(A \\cap B)$ — вероятность того, что выпадет четное число и оно будет больше 3\n",
    "\n",
    "$\\Omega= \\{4, 6\\}$\n",
    "\n",
    "$P(A \\cap B)=\\frac{2}{6}=\\frac{1}{3}$\n",
    "\n",
    "Условная вероятность\n",
    "$P(A|B)$:$$ P(A|B) = \\frac{P(A \\cap B)}{P(B)} = \\frac{\\frac{1}{3}}{\\frac{1}{2}} = \\frac{2}{3} $$"
   ]
  },
  {
   "cell_type": "markdown",
   "id": "bf9b2c52",
   "metadata": {},
   "source": [
    "## Совместная вероятность (Joint Probability)\n",
    "\n",
    "Совместная вероятность — это вероятность того, что два или более события произойдут одновременно. \n",
    "Другими словами, это вероятность того, что все указанные события произойдут вместе.\n",
    "\n",
    "### Обозначение и формула\n",
    "\n",
    "Если у нас есть два события (A) и (B), их совместная вероятность обозначается как $P(A \\cap B)$. \n",
    "Формула для вычисления совместной вероятности:\n",
    " \n",
    " Выделяем $P(A \\cap B)$ из определения условной вероятности:   \n",
    " $$P(A \\cap B) = P(A|B) \\cdot P(B) $$\n",
    "   Аналогично, можно записать:\n",
    "   $$ P(A \\cap B) = P(B|A) \\cdot P(A)$$\n",
    "Таким образом, мы получили **правило цепи для двух событий**:\n",
    "$$ P(A \\cap B) = P(A|B) \\cdot P(B) = P(B|A) \\cdot P(A) $$\n",
    "- $P(A)$   — вероятность события $A$,\n",
    "- $P(B|A)$ — условная вероятность события $B$ при условии, что событие $A$ уже произошло,\n",
    "- $P(B)$   — вероятность события $B$,\n",
    "- $P(A|B)$ — условная вероятность события \\(A\\) при условии, что событие $B$ уже произошло.\n",
    "\n",
    "### Важные свойства\n",
    "\n",
    "1. Нормировка:\n",
    "- Совместная вероятность всегда находится в диапазоне от 0 до 1.\n",
    "2. Независимость:\n",
    "- Если события (A) и (B) независимы, то "
   ]
  },
  {
   "cell_type": "markdown",
   "id": "614955aa",
   "metadata": {},
   "source": [
    "### \"Расщепление вероятностей\"\n",
    "\n",
    "* Событие А - \"открыть сундук отмычкой\" из примера для распределения Бернулли.\n",
    "* Событие B - \"в сундуке предмет опр. ценности\" из примера для Категориального распределения.\n",
    "\n",
    "Хотим рассмотреть совместное дискретное распределение вероятностей.\n",
    "Вероятности всех возможных совместных событий (попарно):\n",
    "\n",
    "$P(A \\cap B) = P(A|B) \\cdot P(B)$\n",
    "\n",
    "Наши события независимы, поэтому:\n",
    "$P(A \\cap B) = P(A) \\cdot P(B)$\n",
    "\n",
    "| A\\B               | 0 - дешевый предмет | 1 - обычный предмет | 2 - ценный предмет |     |\n",
    "| ----------------- | ------------------- | ------------------- | ------------------ | --- |\n",
    "| 0 - сундук закрыт | 0.5 * 0.7 = 0.35    | 0.3 * 0.7 = 0.21    | 0.2 * 0.7 = 0.14   | 0.7 |\n",
    "| 1 - сундук открыт | 0.5 * 0.3 = 0.15    | 0.3 * 0.3 = 0.09    | 0.2 * 0.3 = 0.06   | 0.3 |\n",
    "|                   | 0.5                 | 0.3                 | 0.2                |     |\n",
    "\n",
    "${\\sum}_{i=0}^n{\\sum}_{k=0}^mP\\left(A_i\\right)P\\left(B_i\\right)=1$\n",
    "\n",
    "Для нашего примера:\n",
    "0.35 + 0.21 + 0.14 + 0.15 + 0.09 + 0.06 = 1\n"
   ]
  },
  {
   "cell_type": "markdown",
   "id": "79a612df",
   "metadata": {},
   "source": [
    "### Правило цепи (Chain Rule) в теории вероятностей\n",
    "\n",
    "Правило цепи (Chain Rule) в теории вероятностей ([ссылка](https://en.wikipedia.org/wiki/Chain_rule_(probability))) позволяет выразить совместную вероятность нескольких событий через условные вероятности. Это правило является одним из фундаментальных инструментов в теории вероятностей и статистике.\n",
    "\n",
    "Для 2 событий мы его уже знаем:\n",
    "* Зависимые события: $P(A \\cap B) = P(A|B) \\cdot P(B)$\n",
    "* Независимые события: $P(A \\cap B) = P(A|B) \\cdot P(B)$\n",
    "\n",
    "Для 3 событий событий $A_1, A_2, A_3$:\n",
    "* Зависимые события:  $P(A_1 \\cap A_2 \\cap A_3) = P(A_1) \\cdot P(A_2|A_1) \\cdot P(A_3|A_1 \\cap A_2)$\n",
    "* Независимые события: $P(A_1 \\cap A_2 \\cap A_3) = P(A_1) \\cdot P(A_2) \\cdot P(A_3)$\n",
    "\n",
    "Для 4 событий $A_1, A_2, A_3, A_4$:\n",
    "* Зависимые события:  $(A_1 \\cap A_2 \\cap A_3 \\cap A_4) = P(A_1) \\cdot P(A_2|A_1) \\cdot P(A_3|A_1 \\cap A_2) \\cdot P(A_4|A_1 \\cap A_2 \\cap A_3)$\n",
    "* Независимые события: $(A_1 \\cap A_2 \\cap A_3 \\cap A_4) = P(A_1) \\cdot P(A_2) \\cdot P(A_3) \\cdot P(A_4)$\n",
    "\n",
    "![image](images/chain_rule_for_probability.png)"
   ]
  },
  {
   "cell_type": "markdown",
   "id": "8c3b6846",
   "metadata": {},
   "source": [
    "# Генератор стиля\n"
   ]
  },
  {
   "cell_type": "markdown",
   "id": "4d02c4d6",
   "metadata": {},
   "source": [
    "Даны примеры популярных стилей жителей города N. Необходимо сделать генератор новых стилей для них."
   ]
  },
  {
   "cell_type": "markdown",
   "id": "38848962",
   "metadata": {},
   "source": [
    "![title](images/style.png)"
   ]
  },
  {
   "cell_type": "markdown",
   "id": "78797087",
   "metadata": {},
   "source": [
    "Сделаем список различных элементов стиля:\n"
   ]
  },
  {
   "cell_type": "code",
   "execution_count": 17,
   "id": "deb8465a",
   "metadata": {},
   "outputs": [],
   "source": [
    "styles = {\n",
    "    \"прическа\": [\n",
    "        \"нет волос\",\n",
    "        \"длинные в пучок\",\n",
    "        \"длинные волнистые\",\n",
    "        \"длинные прямые\",\n",
    "        \"короткая волнистые\",\n",
    "        \"короткая прямые\",\n",
    "        \"короткая курчавые\",\n",
    "    ],\n",
    "    \"цвет волос\": [\n",
    "        \"черный\",\n",
    "        \"блонд\",\n",
    "        \"каштановый\",\n",
    "        \"пастельный розовый\",\n",
    "        \"рыжий\",\n",
    "        \"серебристо серый\",\n",
    "    ],\n",
    "    \"аксесуар\": [\n",
    "        \"нет очков\",\n",
    "        \"круглые очки\",\n",
    "        \"солнцезащитные очки\",\n",
    "    ],\n",
    "    \"одежда\": [\n",
    "        \"худи\",\n",
    "        \"комбинезон\",\n",
    "        \"футболка с круглым вырезом\",\n",
    "        \"футболка с V-вырезом\",\n",
    "    ],\n",
    "    \"цвет одежды\": [\n",
    "        \"черный\",\n",
    "        \"синий\",\n",
    "        \"серый\",\n",
    "        \"зеленый\",\n",
    "        \"оранжевый\",\n",
    "        \"розовый\",\n",
    "        \"красный\",\n",
    "        \"белый\",\n",
    "    ],\n",
    "}"
   ]
  },
  {
   "cell_type": "code",
   "execution_count": 18,
   "id": "a010afa0",
   "metadata": {},
   "outputs": [
    {
     "data": {
      "text/plain": [
       "4032"
      ]
     },
     "execution_count": 18,
     "metadata": {},
     "output_type": "execute_result"
    }
   ],
   "source": [
    "param_counts = 1\n",
    "for s in styles.values():\n",
    "    param_counts *= len(s)\n",
    "param_counts"
   ]
  },
  {
   "cell_type": "code",
   "execution_count": 19,
   "id": "f1176dd8",
   "metadata": {},
   "outputs": [],
   "source": [
    "styles_count = {\n",
    "    \"прическа\": [7, 0, 1, 23, 1, 11, 7],\n",
    "    \"цвет волос\": [\n",
    "        7,\n",
    "        6,\n",
    "        2,\n",
    "        3,\n",
    "        8,\n",
    "        24,\n",
    "    ],\n",
    "    \"аксесуар\": [\n",
    "        11,\n",
    "        22,\n",
    "        17,\n",
    "    ],\n",
    "    \"одежда\": [\n",
    "        7,\n",
    "        18,\n",
    "        19,\n",
    "        6,\n",
    "    ],\n",
    "    \"цвет одежды\": [4, 5, 6, 8, 6, 8, 7, 6],\n",
    "}"
   ]
  },
  {
   "cell_type": "code",
   "execution_count": 20,
   "id": "4acd2a46",
   "metadata": {},
   "outputs": [
    {
     "name": "stdout",
     "output_type": "stream",
     "text": [
      "прическа 50\n",
      "цвет волос 50\n",
      "аксесуар 50\n",
      "одежда 50\n",
      "цвет одежды 50\n"
     ]
    }
   ],
   "source": [
    "for k in styles_count.keys():\n",
    "    summ = 0\n",
    "    for s in styles_count[k]:\n",
    "        summ += s\n",
    "    print(k, summ)"
   ]
  },
  {
   "cell_type": "markdown",
   "id": "c5c6b0e2",
   "metadata": {},
   "source": [
    "Реализуйте следующие модели:"
   ]
  },
  {
   "cell_type": "markdown",
   "id": "f73d56ac",
   "metadata": {},
   "source": [
    "### Полиномиальная модель"
   ]
  },
  {
   "cell_type": "markdown",
   "id": "712ef186",
   "metadata": {},
   "source": [
    "![title](images/polynom.png)"
   ]
  },
  {
   "cell_type": "markdown",
   "id": "2fe92922",
   "metadata": {},
   "source": [
    "### Аддитивное сглаживание (MLE)"
   ]
  },
  {
   "cell_type": "markdown",
   "id": "efd96701",
   "metadata": {},
   "source": [
    "![title](images/MLE.png)"
   ]
  },
  {
   "cell_type": "markdown",
   "id": "c8897dbc",
   "metadata": {},
   "source": [
    "Подробные формулы для наивной байесовской модели с MLE:\n",
    "![title](images/formla1.png)\n",
    "![title](images/formula2.png)"
   ]
  },
  {
   "cell_type": "markdown",
   "id": "9283227d",
   "metadata": {},
   "source": [
    "### Полиномиальная модель с MLE для пикселей"
   ]
  },
  {
   "cell_type": "markdown",
   "id": "c557cd7d",
   "metadata": {},
   "source": [
    "![title](images/pixels.png)"
   ]
  },
  {
   "cell_type": "markdown",
   "id": "eb88c180",
   "metadata": {},
   "source": [
    "![title](images/style2.png)"
   ]
  },
  {
   "cell_type": "markdown",
   "id": "00ebac2b",
   "metadata": {},
   "source": [
    "![title](images/pixgen.png)"
   ]
  },
  {
   "cell_type": "markdown",
   "id": "ca1b945b",
   "metadata": {},
   "source": [
    "Как думаете почему наивная байесовская модель плохо справилась с задачей?"
   ]
  },
  {
   "cell_type": "markdown",
   "id": "1ce47803",
   "metadata": {},
   "source": [
    "#### Сложности генеративного моделирования\n",
    "\n",
    "* Как модель может справиться с высокой условной взаимозависимостью признаков?\n",
    "\n",
    "* Как модель может отыскать одну из крошечных пропорций, чтобы получить удовлетворительное наблюдение в многомерном выборочном пространстве?"
   ]
  },
  {
   "cell_type": "markdown",
   "id": "ec56903e",
   "metadata": {},
   "source": [
    "## Скрытое представление"
   ]
  },
  {
   "cell_type": "markdown",
   "id": "8afd45b3",
   "metadata": {},
   "source": [
    "Набор образцов тортов:\n",
    "    \n",
    "![title](images/tort1.png)"
   ]
  },
  {
   "cell_type": "markdown",
   "id": "5c600c52",
   "metadata": {},
   "source": [
    "А вот так выглядит скрытое представление всех возможных тортов:\n",
    "![title](images/tort2.png)    "
   ]
  },
  {
   "cell_type": "markdown",
   "id": "9e78fe4f",
   "metadata": {},
   "source": [
    "Опишите функцию __f__, если мин высота торта 5 у.е., мин радиус 3 у.е., макс высота торта 25 у.е., макс радиус 35 у.е."
   ]
  },
  {
   "cell_type": "markdown",
   "id": "fb0f0d1b",
   "metadata": {},
   "source": [
    "И последний пример скрытого представления:\n",
    "![title](images/latent.png)    "
   ]
  },
  {
   "cell_type": "code",
   "execution_count": null,
   "id": "ea945be4",
   "metadata": {},
   "outputs": [],
   "source": []
  }
 ],
 "metadata": {
  "kernelspec": {
   "display_name": "intro-to-generation-bGdKfiRp-py3.10",
   "language": "python",
   "name": "python3"
  },
  "language_info": {
   "codemirror_mode": {
    "name": "ipython",
    "version": 3
   },
   "file_extension": ".py",
   "mimetype": "text/x-python",
   "name": "python",
   "nbconvert_exporter": "python",
   "pygments_lexer": "ipython3",
   "version": "3.10.11"
  }
 },
 "nbformat": 4,
 "nbformat_minor": 5
}

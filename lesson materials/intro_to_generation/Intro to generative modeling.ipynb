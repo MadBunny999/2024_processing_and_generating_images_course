{
 "cells": [
  {
   "cell_type": "code",
   "execution_count": 1,
   "id": "02ea2cc7",
   "metadata": {},
   "outputs": [],
   "source": [
    "import pandas\n",
    "import os\n",
    "from IPython.display import Image"
   ]
  },
  {
   "cell_type": "markdown",
   "id": "40095706",
   "metadata": {},
   "source": [
    "# Введение в генеративное моделирование"
   ]
  },
  {
   "cell_type": "markdown",
   "id": "99c8ca20",
   "metadata": {},
   "source": [
    "### Структура работы генеративной модели\n",
    "___Генеративная модель___ оценивает __p(x)__ — вероятность получения наблюдения x."
   ]
  },
  {
   "cell_type": "markdown",
   "id": "8fa970a3",
   "metadata": {},
   "source": [
    "![title](images/generationpipe.png)"
   ]
  },
  {
   "cell_type": "markdown",
   "id": "d63b63ee",
   "metadata": {},
   "source": [
    "### Прогресс в генерации лиц"
   ]
  },
  {
   "cell_type": "markdown",
   "id": "af387ce4",
   "metadata": {},
   "source": [
    "![title](images/progress.png)"
   ]
  },
  {
   "cell_type": "markdown",
   "id": "ff66173a",
   "metadata": {},
   "source": [
    "## Основы генеративного моделирования"
   ]
  },
  {
   "cell_type": "markdown",
   "id": "0905dbb4",
   "metadata": {},
   "source": [
    "Набор точек __X__ сгенерирован правилом _Pdata_.\n",
    "\n",
    "Возьмите на себя роль генеративной модели). Выбереnt точку _(x1, x2)_ чтобы она принадлежала расрпеделению _Pdata_.\n",
    "\n"
   ]
  },
  {
   "cell_type": "markdown",
   "id": "0711516a",
   "metadata": {},
   "source": [
    "![title](images/pdata.png)"
   ]
  },
  {
   "cell_type": "markdown",
   "id": "dc9e04cf",
   "metadata": {},
   "source": [
    "* Точка А нарушает правило 1 базовых принципов генеративного моделирования — ясно видно, что она не принадлежит распределению pdata, поскольку находится посреди моря.\n",
    "\n",
    "* Точка B настолько близко расположена от точки из исходного набора данных, что мы не впечатлены способностью модели создать такую точку. Если все образцы, сгенерированные моделью, будут расположены так же близко к точкам из исходного набора, то это можно считать нарушением правила 2 базовых принципов генеративного моделирования.\n",
    "\n",
    "* Точку C можно рассматривать как успех, потому что она вполне могла быть получена из распределения pdata и существенно отличается от всех точек в исходном наборе."
   ]
  },
  {
   "cell_type": "markdown",
   "id": "12c57594",
   "metadata": {},
   "source": [
    "![title](images/gtdata.png)"
   ]
  },
  {
   "cell_type": "markdown",
   "id": "034efbc2",
   "metadata": {},
   "source": [
    "# Генеративная модель"
   ]
  },
  {
   "cell_type": "markdown",
   "id": "ffc58567",
   "metadata": {},
   "source": [
    "На примере с картой мира мы побывали в роли генеративной модели.\n",
    "\n",
    "Еще раз рассмотрим как работает генеративная модель.\n",
    "\n",
    "![image](images/source_of_data.png)"
   ]
  },
  {
   "cell_type": "markdown",
   "id": "3ca7fbaf",
   "metadata": {},
   "source": [
    "У нас есть некоторый источник порождающий данные $X^{data}$.\n",
    "\n",
    "$Х^{data}$ - это случайная величина.\n",
    "Случайная, т.е. есть Неопределенность. Мы не знаем какое значение будет получено следующим.\n",
    "\n",
    "Для нас Источник данных это \"черная коробочка\" или \"таинственный сундук\".\n",
    "\n",
    "Как он устроен внутри неизвестно.\n",
    "\n",
    "Неизвестно статистическое распределение $P_{data}$ (или вероятностная модель) согласно которой генерируются эти данные $X^{data}$.\n",
    "\n",
    "В целом распределения $P_{data}$ у Источника может и не быть, но в задаче генеративного моделирования мы полагаем, что оно есть.\n",
    "\n",
    "Мы наблюдали за Источником, и собрали некоторую выборку $X^{data}$ из экспериментальных данных $X^{data}=\\left\\lbrace X_1^{data}, X_2^{data},X_3^{data}, ...,\\right\\rbrace$ , размером $n$.\n",
    "\n",
    "Пока мы рассматриваем одномерную случайную величину $X^{data}$  , она является действительным числом.\n",
    "Отобразим все значения выборки $Х^{data}$ на Оси $Х$."
   ]
  },
  {
   "cell_type": "markdown",
   "id": "53d431c3",
   "metadata": {},
   "source": [
    "![image](images/generative_model.png)"
   ]
  },
  {
   "cell_type": "markdown",
   "id": "ee6815c8",
   "metadata": {},
   "source": [
    "**Генеративная модель:**\n",
    "* принимает в себя экспериментальную выборку значений $Х^{data}$\n",
    "* моделирует статистическое распределение наших данных\n",
    "\n",
    "Она \"подбирает\" статистическое распределение $P_{model}(Х)$, которое по ее мнению лучшим образом описывает процесс генерации данных.\n",
    "Имея распределение $P_{model}(Х)$, мы можем генерировать новые образцы данных $X^{model}$, но уже из этого распределения.\n",
    "\n",
    "Мы хотим, чтобы:\n",
    "* Сгенерированные ей образы $X^{model}$ будут походить на образцы $X^{data}$.\n",
    "\n",
    "Чем больше $P_{model}(Х)$ походит на $P_{data}$, тем больше образцы $X^{model}$ будут походить на образцы $X^{data}$.\n",
    "\n",
    "* Модель генерировала новые образцы, отличающиеся от тех, что были в обучающей выборке $X$.\n",
    "\n",
    "А не просто запомнила, нашу выборку и отдавала значения из нее."
   ]
  },
  {
   "cell_type": "markdown",
   "id": "5a7215ae",
   "metadata": {},
   "source": [
    "# Теория вероятностей\n",
    "\n",
    "Для генерации чисел мы можем использовать распределения из Теории вероятностей."
   ]
  },
  {
   "cell_type": "markdown",
   "id": "adb8dee5",
   "metadata": {},
   "source": [
    "![image](images/continious_and_discrete_distributions.jpg)"
   ]
  },
  {
   "cell_type": "markdown",
   "id": "1da1e4a2",
   "metadata": {},
   "source": [
    "Отметим, что случайные величины бывают дискретными и непрерывными.\n",
    "\n",
    "Дискретная случ. величина - принимает конечное или счетное множество значений.\n",
    "- **Пример:** Количество очков, выпавших при броске игральной кости.\n",
    "\n",
    "Непрерывная случ. величина - принимает любые значения из некоторого непрерывного интервала.\n",
    "* **Пример:** Нормированная координата по высоте экрана смартфона, куда пользователь тапнет пальцем.\n",
    "\n",
    "`Пространство элементарных событий` — множество $\\Omega$ всех возможных исходов случайного эксперимента. Будем обозначать $e_i$ - возможный исход эксперимента.\n",
    "\n",
    "**Пространства событий:**\n",
    "* у дискретной величины это конечное/счетное множество возможных исходов\n",
    "* у непрерывной - непрерывный отрезок\n",
    "\n",
    "**Подход к определению вероятности тоже разный:**\n",
    "* для непрерывной случайной величины задаем **Функция плотности вероятности (Probability Density Funtion)**\n",
    "\n",
    " PDF - это функция $f(x)$, которая определяет вероятность того, что непрерывная случайная величина $X$ примет значение в бесконечно малом интервале $\\left[x,x+dx\\right]$.\n",
    "\n",
    "* для дискретной случайной величины задаем **Функция вероятности(Probability Mass Function)**\n",
    "PMF - функция $f(x)$, возвращающая вероятность $P$ того, что дискретная случайная величина $x$ примет определённое значение."
   ]
  },
  {
   "cell_type": "markdown",
   "id": "83111a33",
   "metadata": {},
   "source": [
    "![image](images/random_variables.png)"
   ]
  },
  {
   "cell_type": "markdown",
   "id": "a0409915",
   "metadata": {},
   "source": [
    "Принципиальная разница в том, что\n",
    "* при дискретной случ. величине вероятность определяется для опр. исхода (появление 4-очков на игральной кости)\n",
    "* для непрерывной случ. величины определяется вероятность попасть в интервал возможных значений величины Х( тапнуть в нижнюю часть экрана смартфона, нормированная координата по высоте от 0 до 0.5)."
   ]
  },
  {
   "cell_type": "markdown",
   "id": "1d5255b7",
   "metadata": {},
   "source": [
    "![image](images/pdf_and_pmf.png)"
   ]
  },
  {
   "cell_type": "markdown",
   "id": "95fc1fd6",
   "metadata": {},
   "source": [
    "Как мы видим, вероятность появления, конкретного значения Х для непрерывной величины (в точке) равна 0."
   ]
  },
  {
   "cell_type": "markdown",
   "id": "157f66f1",
   "metadata": {},
   "source": [
    "## Распределения дискретной случайной величины"
   ]
  },
  {
   "cell_type": "markdown",
   "id": "fc36e960",
   "metadata": {},
   "source": [
    "### Категориальное распределение $Cat(p_d)$"
   ]
  },
  {
   "cell_type": "code",
   "execution_count": 2,
   "id": "aaea0a93",
   "metadata": {},
   "outputs": [],
   "source": [
    "import matplotlib.pyplot as plt\n",
    "import numpy as np\n",
    "import scipy.stats as stats\n",
    "\n",
    "# Устанавливаем глобальный seed для всех случайностей\n",
    "np.random.seed(42)"
   ]
  },
  {
   "cell_type": "markdown",
   "id": "6f4f1f69",
   "metadata": {},
   "source": [
    "![image](images/categorical_distribution.png)"
   ]
  },
  {
   "cell_type": "markdown",
   "id": "9b3d66b5",
   "metadata": {},
   "source": [
    "В схеме `эксперимента с d-исходами` мы рассматриваем 1 эксперимент и вероятности происхождения всех элементарных исходов $$\\Omega=\\left\\lbrace e_1, e_2, e_3, ..., e_d \\right\\rbrace$$\n",
    "\n",
    "`Пространство элементарных событий`:\n",
    "$$\\Omega=\\left\\lbrace 0, 1, 2 \\right\\rbrace$$\n",
    "\n",
    "Поскольку сейчас мы работаем в области теории вероятностей мы знаем, что внутри источника, генерирующего последовательность, находится модель `Категориального распределения` $Cat(p_d)$ c параметром:\n",
    "   * $p_d$ - который представляет собой вектор вероятностей размерности $d$ для наступления каждого из элементарных исходов отдельного эксперимента.\n",
    "\n",
    "В нашем случае, у нас 3 возможных исхода: `'0', '1', '2'`, и $d=3$.\n",
    "\n",
    "$p_{d=3}=[p_0, p_1, p_2]$:\n",
    "\n",
    "где\n",
    "* $p_0$ - вероятность наступления события `'0'`\n",
    "* $p_1$ - вероятность наступления события `'1'`\n",
    "* $p_2$ - вероятность наступления события `'2'`\n",
    "\n",
    "Поскольку это все возможные исходы эксперимента:\n",
    "$$\\underset{i}{\\overset{d}{\\sum}}p_i=1$$\n",
    "\n",
    "Так как мы работаем в теории вероятностей, мы знаем точные значения этих вероятностей:\n",
    "\n",
    "> Зафиксировав параметр $Cat(p_d)$ распределения $$\\theta=\\left\\lbrace p_d=[0.5, 0.3, 0.2] \\right\\rbrace$$ мы получаем точный статистический закон описывающий вероятностный процесс генерации всех наших данных, - `функцию вероятностей` дискретного распределения."
   ]
  },
  {
   "cell_type": "markdown",
   "id": "74606a5a",
   "metadata": {},
   "source": [
    "#### Probability Mass Function\n",
    "\n",
    "`Функция вероятности(Probability Mass Function)` - функция $f(x_i)$, возвращающая вероятность $P$ того, что дискретная случайная величина \n",
    "$x$ примет определённое значение $x_i$.\n",
    "\n",
    "Для нашего распределения $Cat(p_d)$:\n",
    "\n",
    "$$f\\left(x_i\\right)=Cat\\left(p_d \\mid x=x_i \\right)=P\\left(x=x_i\\right)=p_i$$\n",
    "\n",
    "при $x_i \\in \\Omega=\\left\\lbrace e_1, e_2, e_3, ..., e_d \\right\\rbrace$"
   ]
  },
  {
   "cell_type": "code",
   "execution_count": 3,
   "id": "95285078",
   "metadata": {},
   "outputs": [
    {
     "data": {
      "image/png": "[encoded data removed]",
      "text/plain": [
       "<Figure size 1000x600 with 1 Axes>"
      ]
     },
     "metadata": {},
     "output_type": "display_data"
    }
   ],
   "source": [
    "# готового варианта для Categorical Distribution не нашел написал свой вариант =)\n",
    "from categorical_distribution import CategoricalDistribution\n",
    "\n",
    "# Параметры распределения\n",
    "pd = [0.5, 0.3, 0.2]\n",
    "values = [0, 1, 2]\n",
    "\n",
    "# частный случай дискретное равномерное распределение\n",
    "# pd = [0.2, 0.2, 0.2, 0.2, 0.2]\n",
    "# values = [0, 1, 2, 3, 4]\n",
    "\n",
    "# значение k для которого хотим подписать вероятность на графике\n",
    "x_i = 1\n",
    "\n",
    "# Вычисляем функцию вероятностей (pmf)\n",
    "cat_dist = CategoricalDistribution(values=values, pd=pd)\n",
    "x = np.array(values)\n",
    "y = cat_dist.pmf(x)\n",
    "\n",
    "# Построение графика функции вероятности\n",
    "fig, ax = plt.subplots(figsize=(10, 6))\n",
    "ax.stem(x, y, label=f\"$Cat(p_d={pd})$\")\n",
    "ax.set_xticks(x)\n",
    "\n",
    "# Подпишем вероятности на графике\n",
    "ax.text(\n",
    "    x[x_i],\n",
    "    y[x_i],\n",
    "    f\"$P(x={x[x_i]})={y[x_i]:.2f}$\",\n",
    "    verticalalignment=\"bottom\",\n",
    "    horizontalalignment=\"left\",\n",
    "    fontsize=14,\n",
    ")\n",
    "\n",
    "# Добавление дополнительных элементов\n",
    "plt.title(f\"Функция вероятности\")\n",
    "plt.xlabel(\"$x_i$\")\n",
    "plt.ylabel(\"$P(x=x_i)$\")\n",
    "plt.grid(True)\n",
    "plt.legend()\n",
    "plt.show()"
   ]
  },
  {
   "cell_type": "markdown",
   "id": "aa1aee0c",
   "metadata": {},
   "source": [
    "**Ключевой момент:**\n",
    "* Вероятность, что дискретная случайная величина ($x$) примет конкретное значение ($a$) равна значению функции вероятности $f(x)$ для этой точки:\n",
    " $$ P(x=a)=f(x=a)$$"
   ]
  },
  {
   "cell_type": "markdown",
   "id": "167c9960",
   "metadata": {},
   "source": [
    "#### Генерация выборки из распределения"
   ]
  },
  {
   "cell_type": "code",
   "execution_count": 4,
   "id": "d4199ddf",
   "metadata": {},
   "outputs": [
    {
     "name": "stdout",
     "output_type": "stream",
     "text": [
      "[0 2 1 1 0 0 0 2]\n"
     ]
    }
   ],
   "source": [
    "sample_size = 8  # количество чисел для генерации\n",
    "\n",
    "# Генерируем последовательность из 8 элементов\n",
    "sequence = np.random.choice(values, p=pd, size=sample_size)\n",
    "print(sequence)"
   ]
  },
  {
   "cell_type": "markdown",
   "id": "a676e109",
   "metadata": {},
   "source": [
    "### Распределение Бернулли $Bern(p)$"
   ]
  },
  {
   "cell_type": "markdown",
   "id": "066f62b5",
   "metadata": {},
   "source": [
    "![images](images/bernulli_distribution.png)"
   ]
  },
  {
   "cell_type": "markdown",
   "id": "6f874513",
   "metadata": {},
   "source": [
    "Поскольку сейчас мы работаем в области теории вероятностей мы знаем, что внутри источника, генерирующего выборку находится модель распределения Бернулли $Bern(p)$ c параметром:\n",
    "   * $p$ - вероятность успеха.\n",
    "\n",
    "В схеме эксперимента Бернулли мы рассматриваем 1 эксперимент и вероятность происхождения некоторого интересного нам события. Например, например вероятность того, что персонаж компьютерной игры откроет сундук отмычкой:\n",
    "\n",
    "* 1 - будем связывать с происхождением некоторого интересного нам события (`сундук открыт`). Событие называется \"успех.\"\n",
    "  \n",
    "  Вероятность этого события обозначим $p=P(x=1)$\n",
    "\n",
    "* 0 - будем связывать с тем, что данное событие не случилось (`сундук закрыт`). Событие называется \"неудача.\"\n",
    "  \n",
    "  Вероятность этого события обозначим $q=P(x=0)$ и $q=1-p$.\n",
    "\n",
    "`Пространство элементарных событий` для распределения Бернулли:\n",
    "$$\\Omega=\\left\\lbrace 0, 1 \\right\\rbrace$$\n",
    "\n",
    "> Зафиксировав значение параметра $Bern(p)$ распределения $$\\theta=\\left\\lbrace p=0.3\\right\\rbrace$$ мы получаем точный статистический закон описывающий вероятностный процесс генерации всех наших данных, - `функцию вероятностей` дискретного распределения.\n",
    "\n"
   ]
  },
  {
   "cell_type": "markdown",
   "id": "f3400f33",
   "metadata": {},
   "source": [
    "#### Probability Mass Function\n",
    "\n",
    "`Функция вероятности(Probability Mass Function)` - функция, возвращающая вероятность $P$ того, что дискретная случайная величина \n",
    "$x$ примет определённое значение:\n",
    "\n",
    "$$f\\left(x_i\\right)=P\\left(x=x_i\\right)$$\n",
    "\n",
    "Для нашего распределения $Bern(p)$:\n",
    "\n",
    "$$Bern\\left(p \\mid x=a \\right)=\\left\\lbrace\n",
    "\\begin{array}{llllllllll}\n",
    "\tp   & ,x=1                                  \\\\\n",
    "\t1-p & ,x=0                                  \\\\\n",
    "\\end{array}\\right\\rbrace$$\n",
    "\n",
    "при $a \\in \\left\\lbrace0,1\\right\\rbrace$"
   ]
  },
  {
   "cell_type": "code",
   "execution_count": 17,
   "id": "ee88bfae",
   "metadata": {},
   "outputs": [
    {
     "data": {
      "image/png": "[encoded data removed]",
      "text/plain": [
       "<Figure size 1000x600 with 1 Axes>"
      ]
     },
     "metadata": {},
     "output_type": "display_data"
    }
   ],
   "source": [
    "# Параметры распределения\n",
    "p = 0.3\n",
    "\n",
    "x = np.arange(0, 1 + 1)\n",
    "y = stats.bernoulli.pmf(x, p=p)\n",
    "\n",
    "# Построение графика функции вероятности\n",
    "fig, ax = plt.subplots(figsize=(10, 6))\n",
    "ax.stem(x, y, label=f\"$Bern(p={p})$\")\n",
    "ax.set_xticks(x)\n",
    "\n",
    "# Подпишем вероятности на графике\n",
    "ax.text(\n",
    "    0,\n",
    "    1-p,\n",
    "    f\"$P(x={0})={1-p:.2f}$\",\n",
    "    verticalalignment=\"bottom\",\n",
    "    horizontalalignment=\"left\",\n",
    "    fontsize=14,\n",
    ")\n",
    "\n",
    "ax.text(\n",
    "    1,\n",
    "    p,\n",
    "    f\"$P(x={1})={p:.2f}$\",\n",
    "    verticalalignment=\"bottom\",\n",
    "    horizontalalignment=\"left\",\n",
    "    fontsize=14,\n",
    ")\n",
    "\n",
    "# Добавление дополнительных элементов\n",
    "plt.title(f\"Функция вероятности\")\n",
    "plt.xlabel(\"$x_i$\")\n",
    "plt.ylabel(\"$P(x=x_i)$\")\n",
    "plt.grid(True)\n",
    "plt.legend()\n",
    "plt.show()"
   ]
  },
  {
   "cell_type": "markdown",
   "id": "62701aba",
   "metadata": {},
   "source": [
    "#### Генерация выборки из распределения"
   ]
  },
  {
   "cell_type": "code",
   "execution_count": 22,
   "id": "daaaf059",
   "metadata": {},
   "outputs": [
    {
     "name": "stdout",
     "output_type": "stream",
     "text": [
      "[1 0 0 1 1 0 1 0]\n"
     ]
    }
   ],
   "source": [
    "# результат работы двух функций идентичен\n",
    "def bernoulli_np(p, n=1):\n",
    "    return np.random.choice([0, 1], size=n, p=[1 - p, p])\n",
    "\n",
    "\n",
    "def bernoulli_stats(p, n=1):\n",
    "    return stats.bernoulli(p).rvs(size=n)\n",
    "\n",
    "sample_size = 8  # Количество чисел для генерации\n",
    "\n",
    "bernoulli_numbers = bernoulli_np(p, sample_size)\n",
    "print(bernoulli_numbers)"
   ]
  },
  {
   "cell_type": "markdown",
   "id": "39eb1f96",
   "metadata": {},
   "source": [
    "### Биномиальное распределение $Binom(p, n)$"
   ]
  },
  {
   "cell_type": "markdown",
   "id": "5efaddc7",
   "metadata": {},
   "source": [
    "![image](images/binomial_distribution.png)"
   ]
  },
  {
   "cell_type": "markdown",
   "id": "fe51129f",
   "metadata": {},
   "source": [
    "И так у нас есть некоторый источник данных (случайная величина $x^{Bern}$), генерирующих последовательность $\\left\\lbrace x^{Bern}_1, x^{Bern}_2, x^{Bern}_3, ..., x^{Bern}_n\\right\\rbrace$:\n",
    "\n",
    "```\n",
    "[0 1 1 0 0 0 0 0 ... 1] (160 результатов от экспериментов Бернулли)\n",
    "```\n",
    "\n",
    "Поскольку сейчас мы работаем в области теории вероятностей мы знаем, что внутри источника, генерирующего эту последовательность,\n",
    "\n",
    "находится модель распределения Бернулли $Bern(p)$ c параметром:\n",
    "   * $p$ - вероятность успеха."
   ]
  },
  {
   "cell_type": "markdown",
   "id": "fdcce0c5",
   "metadata": {},
   "source": [
    "`Биномиальное распределение` является обобщением `распределения Бернулли` на серию экспериментов $n$.\n",
    "\n",
    "Мы так же проводим `эксперимент Бернулли` с двумя возможными исходами \"успех\" и \"неудача\". Например, мы случайно выбираем одного жителя нашего города, и хотим узнать вероятность, того, что у него(нее) волосы рыжего цвета.\n",
    "\n",
    "> Если у нас есть серия экспериментов Бернулли, в рамках распределения Бернулли, мы задаемся вопросом о том, какова вероятность получить \"успех\", при проведении нового 1-го независимого эксперимента.\n",
    "\n",
    "При `Биномиальном распределении` мы проводим серию из $n$ экспериментов Бернулли и нас интересует вероятность появления числа \"успехов\" $k$ в такой серии экспериментов.\n",
    "\n",
    "Например, мы хотим случайно выбирать $n=20$ сундуков, и узнать вероятность, того, что $k=7$ из них будут успешно открыты ($p=0.3$). Такое событие обозначим как $A_{p=0.3, n=20, k=7}$. Это событие соответствует числу $7$.\n",
    "\n",
    "И так мы берем нашу выборку $x^{Bern}$ из 160 элементов, делим ее на серии экспериментов по $n=20$, и в рамках каждой серии из 20 экспериментов считаем число успехов $k$ ($x==1$). Так мы получаем уже новую дискретную случайную величину $x^{Binom}=\\left\\lbrace x^{Binom}_1, x^{Binom}_2, x^{Binom}_3, ..., x^{Binom}_m\\right\\rbrace$ из 8 чисел:\n",
    "\n",
    "```\n",
    "[7 5 6 4 5 5 6 8]\n",
    "```"
   ]
  },
  {
   "cell_type": "markdown",
   "id": "940e5984",
   "metadata": {},
   "source": [
    "Модель Биномиального распределения $Binom(p, n)$ описывается параметрами:\n",
    "   * $p$ - вероятность успеха в отдельном эксперименте Бернулли.\n",
    "   * $n$ - количество экспериментов Бернулли в одной серии экспериментов.\n",
    "\n",
    "> Заметим, что $Binom(p, n=1)=Bern(p)$ `биномиальное распределение` при серии экспериментов состоящей из 1-го эксперимента, сводится к `распределению Бернулли`. \n",
    "\n",
    "Таким образом, `распределение Бернулли`, частный случай `Биномиального распределения`.\n",
    "\n",
    "Число \"успехов\" для случайной величины $x^{Binom}$ может варьироваться от $0$ до $n$.\n",
    "\n",
    "`Пространство элементарных событий` для случайной величины $x^{Binom}$:\n",
    "$$\\Omega=\\left\\lbrace 0, 1, ..., n \\right\\rbrace$$\n",
    "\n",
    "Вероятность события $A_{p=0.3, n=20, k=7}$ обозначим $P(A_{p=0.3, n=20, k=7})=P(p=0.3, n=20, k=7)$.\n",
    "\n",
    "Параметры $p$ и $n$ однозначно определяют вид `функции вероятностей` $f(p, n, k=x^{Binom}_i)$ биномиального распределения $Binom(p, n)$.\n",
    "\n",
    "> Заметим, что `функция вероятности` $f(x^{Binom})$ строится на значениях, которые может принимать случайная величина $x^{Binom}$. Для простоты пишут просто $f(x)$, подразумевая $f(x^{Binom})$. Для краткости вместо $k=x^{Binom}_i$ будем писать $x=x_i$.\n",
    "\n",
    "> Зафиксировав значение параметров $$\\theta=\\left\\lbrace p=0.3, n=20 \\right\\rbrace$$ биномиального распределения $Binom(p, n)$ мы получаем точный статистический закон описывающий вероятностный процесс генерации всех наших данных - `функцию вероятностей` дискретного распределения.\n",
    "\n",
    "Запишем сокращенную запись вероятности события:\n",
    "\n",
    "$$P(p=0.3, n=20, k=7)=f(p=0.3, n=20, x=x_i)=f_{\\theta}(x=x_i)=P_{\\theta}(x=x_i)$$"
   ]
  },
  {
   "cell_type": "markdown",
   "id": "2d081f9d",
   "metadata": {},
   "source": [
    "#### Probability Mass Function\n",
    "\n",
    "`Функция вероятности(probability function)` для нашего распределения $Binom(p, n)$:\n",
    "\n",
    "$$P_{\\theta}(x=x_i)=Binom(p, n \\mid x=x_i) = f(p,n, x=x_i)=\\frac{n!}{k!\\left(n-k\\right)!}p^k(1-p)^{n-k}$$\n",
    "\n",
    "при $x_i \\in \\Omega=\\left\\lbrace 0, 1, ..., n \\right\\rbrace$."
   ]
  },
  {
   "cell_type": "code",
   "execution_count": 28,
   "id": "d5866593",
   "metadata": {},
   "outputs": [
    {
     "data": {
      "image/png": "[encoded data removed]",
      "text/plain": [
       "<Figure size 1000x600 with 1 Axes>"
      ]
     },
     "metadata": {},
     "output_type": "display_data"
    }
   ],
   "source": [
    "# Параметры Биномиального распределения\n",
    "p = 0.3\n",
    "n = 20\n",
    "\n",
    "# значение k для которого хотим подписать вероятность\n",
    "x_i = 4\n",
    "\n",
    "x = np.arange(0, n + 1)\n",
    "y = stats.binom.pmf(x, n, p)\n",
    "\n",
    "# Построение графика функции вероятности\n",
    "fig, ax = plt.subplots(figsize=(10, 6))\n",
    "ax.stem(x, y, label=f\"$Binom(p={p}, n={n})$\")\n",
    "ax.set_xticks(x)\n",
    "\n",
    "# Подпишем вероятности на графике\n",
    "ax.text(\n",
    "    x[x_i],\n",
    "    y[x_i],\n",
    "    f\"$P(x={x[x_i]})={y[x_i]:.2f}$\",\n",
    "    verticalalignment=\"bottom\",\n",
    "    horizontalalignment=\"left\",\n",
    "    fontsize=14,\n",
    ")\n",
    "\n",
    "# Добавление дополнительных элементов\n",
    "plt.title(f\"Функция вероятности\")\n",
    "plt.xlabel(\"$x_i$\")\n",
    "plt.ylabel(\"$P(x=x_i)$\")\n",
    "plt.grid(True)\n",
    "plt.legend()\n",
    "plt.show()"
   ]
  },
  {
   "cell_type": "markdown",
   "id": "c9ff5c2b",
   "metadata": {},
   "source": [
    "#### Генерация выборки из распределения"
   ]
  },
  {
   "cell_type": "code",
   "execution_count": 29,
   "id": "1f1268da",
   "metadata": {},
   "outputs": [
    {
     "name": "stdout",
     "output_type": "stream",
     "text": [
      "[9 5 5 7 4 3 5 4]\n"
     ]
    }
   ],
   "source": [
    "sample_size = 8 # Количество чисел для генерации\n",
    "\n",
    "binomial_numbers = stats.binom.rvs(n, p, size=sample_size)\n",
    "print(binomial_numbers)"
   ]
  },
  {
   "cell_type": "markdown",
   "id": "6a344b19",
   "metadata": {},
   "source": [
    "## Распределения непрерывной случайной величины"
   ]
  },
  {
   "cell_type": "markdown",
   "id": "33a2865c",
   "metadata": {},
   "source": [
    "### Нормальное распределение $Norm(\\mu, \\sigma ^{2})$"
   ]
  },
  {
   "cell_type": "markdown",
   "id": "96697e59",
   "metadata": {},
   "source": [
    "Поскольку сейчас мы работаем в области теории вероятностей мы знаем, что внутри источника, генерирующего последовательность,\n",
    "\n",
    "```\n",
    "[-0.26947439, 0.74256004, -0.46341769, -0.56572975, 0.24196227, -1.91328024, -1.52491783, 0.56228753]\n",
    "```\n",
    "\n",
    "находится модель нормального распределения $Norm(\\mu, \\sigma ^{2})$ с параметрами:\n",
    "* $\\mu$ — `математическое ожидание` (`первый момент случайной величины`), а так же `медиана` и единственная `мода`.\n",
    "* $\\sigma ^{2}$ — `дисперсия` (`второй момент случайной величины`). Корнем из нее будет параметр $\\sigma$ - `среднеквадратичное отклонение`.\n",
    "\n",
    "> Зафиксировав значения параметров $Norm(\\mu, \\sigma ^{2})$ распределения $$\\theta=\\left\\lbrace\\mu=0,\\sigma=1\\right\\rbrace$$ мы получаем точный статистический закон описывающий вероятностный процесс генерации всех наших данных, - `плотность функции вероятностей`(`probability density function` [сокр. `PDF`]) непрерывного распределения."
   ]
  },
  {
   "cell_type": "markdown",
   "id": "64576f25",
   "metadata": {},
   "source": [
    "#### Probability Mass Function\n",
    "\n",
    "Функция плотности вероятности (Probability Density Funtion) - это функция $f(x)$, которая определяет вероятность того, что непрерывная случайная величина $X$ примет значение в бесконечно малом интервале $\\left[x,x+dx\\right]$.\n",
    "\n",
    "$$Norm(\\mu, \\sigma ^{2})={\\frac{1}{\\sqrt{2\\;\\pi\\sigma^{2}}}}\\cdot e^{-\\;{\\frac{(x-\\mu)^{2}}{2\\sigma^{2}}}}$$"
   ]
  },
  {
   "cell_type": "code",
   "execution_count": 30,
   "id": "21357b13",
   "metadata": {},
   "outputs": [
    {
     "data": {
      "image/png": "[encoded data removed]",
      "text/plain": [
       "<Figure size 1000x600 with 1 Axes>"
      ]
     },
     "metadata": {},
     "output_type": "display_data"
    }
   ],
   "source": [
    "norm_distr_mu = 0 # математическое ожидание\n",
    "norm_distr_sigma = 1 # среднеквадратичное отклонение\n",
    "\n",
    "x = np.linspace(-3, 3, 100)\n",
    "y = stats.norm.pdf(x, loc=norm_distr_mu, scale=norm_distr_sigma)\n",
    "\n",
    "# Построение графика функции плотности распределения\n",
    "plt.figure(figsize=(10, 6))\n",
    "plt.plot(\n",
    "    x, y, \"b-\", lw=2, label=f\"$Norm(\\mu={norm_distr_mu}, \\sigma={norm_distr_sigma})$\"\n",
    ")\n",
    "\n",
    "# Добавление дополнительных элементов\n",
    "plt.title(\"График функции плотности распределения\")\n",
    "plt.xlabel(\"$x$\")\n",
    "plt.ylabel(\"$f(x)$\")\n",
    "plt.grid(True)\n",
    "plt.legend()\n",
    "plt.show()"
   ]
  },
  {
   "cell_type": "markdown",
   "id": "05416559",
   "metadata": {},
   "source": [
    "#### Генерация выборки из распределения"
   ]
  },
  {
   "cell_type": "code",
   "execution_count": 31,
   "id": "5d164c05",
   "metadata": {},
   "outputs": [
    {
     "name": "stdout",
     "output_type": "stream",
     "text": [
      "[ 0.91540212  0.32875111 -0.5297602   0.51326743  0.09707755  0.96864499\n",
      " -0.70205309 -0.32766215]\n"
     ]
    }
   ],
   "source": [
    "# Генерация 8 случайных чисел с нормальным распределением\n",
    "normal_numbers = stats.norm.rvs(loc=norm_distr_mu,\n",
    "                                  scale=norm_distr_sigma,\n",
    "                                  size=8)\n",
    "\n",
    "# Вывод результатов\n",
    "print(normal_numbers)"
   ]
  },
  {
   "cell_type": "markdown",
   "id": "f37723c1",
   "metadata": {},
   "source": [
    "## Теория вероятности резюме\n",
    "\n",
    "Все распределения из Теории вероятностей - простейшие модели генераторов чисел.\n",
    "\n",
    "Каждая такая модель $P(x)$ имеет свой набор параметров $\\theta$.\n",
    "\n",
    "Задавая эти параметры, мы получаем точный статистический закон по которому генерируются объекты.\n",
    "\n",
    "![image](images/parametric_models.jpg)"
   ]
  },
  {
   "cell_type": "markdown",
   "id": "4edd81ed",
   "metadata": {},
   "source": [
    "В теории вероятностей:\n",
    "\n",
    "* мы работаем с математическими моделями, которые позволяют моделировать поведение случайных величин.\n",
    "* мы всегда точно знаем какая модель случайной величины(распределение) генерирует данные.\n",
    "* все сгенерированные значения подчиняются этому фундаментальному для них закону.\n",
    "\n",
    "Теория вероятности дала нам множество моделей с параметрами для генерации объектов.\n",
    "\n",
    "* Как же создать на их основе генеративную модель?"
   ]
  },
  {
   "cell_type": "markdown",
   "id": "8c3b6846",
   "metadata": {},
   "source": [
    "## Генератор стиля\n"
   ]
  },
  {
   "cell_type": "markdown",
   "id": "4d02c4d6",
   "metadata": {},
   "source": [
    "Даны примеры популярных стилей жителей города N. Необходимо сделать генератор новых стилей для них."
   ]
  },
  {
   "cell_type": "markdown",
   "id": "38848962",
   "metadata": {},
   "source": [
    "![title](images/style.png)"
   ]
  },
  {
   "cell_type": "markdown",
   "id": "78797087",
   "metadata": {},
   "source": [
    "Сделаем список различных элементов стиля:\n"
   ]
  },
  {
   "cell_type": "code",
   "execution_count": 6,
   "id": "deb8465a",
   "metadata": {},
   "outputs": [],
   "source": [
    "styles = {\n",
    "    'прическа':[\n",
    "        'нет волос',\n",
    "        'длинные в пучок',\n",
    "        'длинные волнистые',\n",
    "        'длинные прямые',\n",
    "        'короткая волнистые',\n",
    "        'короткая прямые',\n",
    "        'короткая курчавые'\n",
    "    ],\n",
    "    'цвет волос':[\n",
    "        'черный',\n",
    "        'блонд',\n",
    "        'каштановый',\n",
    "        'пастельный розовый',\n",
    "        'рыжий',\n",
    "        'серебристо серый',\n",
    "    ],\n",
    "    'аксесуар':[\n",
    "        'нет очков',\n",
    "        'круглые очки',\n",
    "        'солнцезащитные очки',\n",
    "    ],\n",
    "    'одежда':[\n",
    "        'худи',\n",
    "        'комбинезон',\n",
    "        'футболка с круглым вырезом',\n",
    "        'футболка с V-вырезом',\n",
    "    ],\n",
    "    'цвет одежды':[\n",
    "        'черный',\n",
    "        'синий',\n",
    "        'серый',\n",
    "        'зеленый',\n",
    "        'оранжевый',\n",
    "        'розовый',\n",
    "        'красный',\n",
    "        'белый'\n",
    "    ],\n",
    "}"
   ]
  },
  {
   "cell_type": "code",
   "execution_count": 7,
   "id": "a010afa0",
   "metadata": {},
   "outputs": [
    {
     "data": {
      "text/plain": [
       "4032"
      ]
     },
     "execution_count": 7,
     "metadata": {},
     "output_type": "execute_result"
    }
   ],
   "source": [
    "param_counts = 1\n",
    "for s in styles.values():\n",
    "    param_counts *= len(s)\n",
    "param_counts"
   ]
  },
  {
   "cell_type": "code",
   "execution_count": 8,
   "id": "f1176dd8",
   "metadata": {},
   "outputs": [],
   "source": [
    "styles_count = {\n",
    "    'прическа':[\n",
    "        7,\n",
    "        0,\n",
    "        1,\n",
    "        23,\n",
    "        1,\n",
    "        11,\n",
    "        7\n",
    "    ],\n",
    "    'цвет волос':[\n",
    "        7,\n",
    "        6,\n",
    "        2,\n",
    "        3,\n",
    "        8,\n",
    "        24,\n",
    "    ],\n",
    "    'аксесуар':[\n",
    "        11,\n",
    "        22,\n",
    "        17,\n",
    "    ],\n",
    "    'одежда':[\n",
    "        7,\n",
    "        18,\n",
    "        19,\n",
    "        6,\n",
    "    ],\n",
    "    'цвет одежды':[\n",
    "        4,\n",
    "        5,\n",
    "        6,\n",
    "        8,\n",
    "        6,\n",
    "        8,\n",
    "        7,\n",
    "        6\n",
    "    ],\n",
    "}"
   ]
  },
  {
   "cell_type": "code",
   "execution_count": 9,
   "id": "4acd2a46",
   "metadata": {},
   "outputs": [
    {
     "name": "stdout",
     "output_type": "stream",
     "text": [
      "прическа 50\n",
      "цвет волос 50\n",
      "аксесуар 50\n",
      "одежда 50\n",
      "цвет одежды 50\n"
     ]
    }
   ],
   "source": [
    "for k in styles_count.keys():\n",
    "    summ = 0\n",
    "    for s in styles_count[k]:\n",
    "        summ += s\n",
    "    print(k, summ)"
   ]
  },
  {
   "cell_type": "markdown",
   "id": "c5c6b0e2",
   "metadata": {},
   "source": [
    "Реализуйте следующие модели:"
   ]
  },
  {
   "cell_type": "markdown",
   "id": "f73d56ac",
   "metadata": {},
   "source": [
    "### Полиномиальная модель"
   ]
  },
  {
   "cell_type": "markdown",
   "id": "712ef186",
   "metadata": {},
   "source": [
    "![title](images/polynom.png)"
   ]
  },
  {
   "cell_type": "markdown",
   "id": "2fe92922",
   "metadata": {},
   "source": [
    "### Аддитивное сглаживание (MLE)"
   ]
  },
  {
   "cell_type": "markdown",
   "id": "efd96701",
   "metadata": {},
   "source": [
    "![title](images/MLE.png)"
   ]
  },
  {
   "cell_type": "markdown",
   "id": "c8897dbc",
   "metadata": {},
   "source": [
    "Подробные формулы для наивной байесовской модели с MLE:\n",
    "![title](images/formla1.png)\n",
    "![title](images/formula2.png)"
   ]
  },
  {
   "cell_type": "markdown",
   "id": "9283227d",
   "metadata": {},
   "source": [
    "### Полиномиальная модель с MLE для пикселей"
   ]
  },
  {
   "cell_type": "markdown",
   "id": "c557cd7d",
   "metadata": {},
   "source": [
    "![title](images/pixels.png)"
   ]
  },
  {
   "cell_type": "markdown",
   "id": "eb88c180",
   "metadata": {},
   "source": [
    "![title](images/style2.png)"
   ]
  },
  {
   "cell_type": "markdown",
   "id": "00ebac2b",
   "metadata": {},
   "source": [
    "![title](images/pixgen.png)"
   ]
  },
  {
   "cell_type": "markdown",
   "id": "ca1b945b",
   "metadata": {},
   "source": [
    "Как думаете почему наивная байесовская модель плохо справилась с задачей?"
   ]
  },
  {
   "cell_type": "markdown",
   "id": "1ce47803",
   "metadata": {},
   "source": [
    "#### Сложности генеративного моделирования\n",
    "\n",
    "* Как модель может справиться с высокой условной взаимозависимостью признаков?\n",
    "\n",
    "* Как модель может отыскать одну из крошечных пропорций, чтобы получить удовлетворительное наблюдение в многомерном выборочном пространстве?"
   ]
  },
  {
   "cell_type": "markdown",
   "id": "ec56903e",
   "metadata": {},
   "source": [
    "## Скрытое представление"
   ]
  },
  {
   "cell_type": "markdown",
   "id": "8afd45b3",
   "metadata": {},
   "source": [
    "Набор образцов тортов:\n",
    "    \n",
    "![title](images/tort1.png)"
   ]
  },
  {
   "cell_type": "markdown",
   "id": "5c600c52",
   "metadata": {},
   "source": [
    "А вот так выглядит скрытое представление всех возможных тортов:\n",
    "![title](images/tort2.png)    "
   ]
  },
  {
   "cell_type": "markdown",
   "id": "9e78fe4f",
   "metadata": {},
   "source": [
    "Опишите функцию __f__, если мин высота торта 5 у.е., мин радиус 3 у.е., макс высота торта 25 у.е., макс радиус 35 у.е."
   ]
  },
  {
   "cell_type": "markdown",
   "id": "fb0f0d1b",
   "metadata": {},
   "source": [
    "И последний пример скрытого представления:\n",
    "![title](images/latent.png)    "
   ]
  },
  {
   "cell_type": "code",
   "execution_count": null,
   "id": "ea945be4",
   "metadata": {},
   "outputs": [],
   "source": []
  }
 ],
 "metadata": {
  "kernelspec": {
   "display_name": "intro-to-generation-bGdKfiRp-py3.10",
   "language": "python",
   "name": "python3"
  },
  "language_info": {
   "codemirror_mode": {
    "name": "ipython",
    "version": 3
   },
   "file_extension": ".py",
   "mimetype": "text/x-python",
   "name": "python",
   "nbconvert_exporter": "python",
   "pygments_lexer": "ipython3",
   "version": "3.10.11"
  }
 },
 "nbformat": 4,
 "nbformat_minor": 5
}
